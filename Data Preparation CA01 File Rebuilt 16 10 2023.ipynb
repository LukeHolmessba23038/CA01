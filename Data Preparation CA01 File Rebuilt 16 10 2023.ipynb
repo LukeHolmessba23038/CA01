{
 "cells": [
  {
   "cell_type": "code",
   "execution_count": 1,
   "id": "c4314343",
   "metadata": {},
   "outputs": [],
   "source": [
    "import pandas as pd\n",
    "import matplotlib.pyplot as plt\n",
    "import seaborn as sns\n",
    "afs=pd.read_csv('aps_failure_set.csv')\n"
   ]
  },
  {
   "cell_type": "code",
   "execution_count": 2,
   "id": "dfe684cc",
   "metadata": {},
   "outputs": [
    {
     "data": {
      "text/html": [
       "<div>\n",
       "<style scoped>\n",
       "    .dataframe tbody tr th:only-of-type {\n",
       "        vertical-align: middle;\n",
       "    }\n",
       "\n",
       "    .dataframe tbody tr th {\n",
       "        vertical-align: top;\n",
       "    }\n",
       "\n",
       "    .dataframe thead th {\n",
       "        text-align: right;\n",
       "    }\n",
       "</style>\n",
       "<table border=\"1\" class=\"dataframe\">\n",
       "  <thead>\n",
       "    <tr style=\"text-align: right;\">\n",
       "      <th></th>\n",
       "      <th>class</th>\n",
       "      <th>aa_000</th>\n",
       "      <th>ab_000</th>\n",
       "      <th>ac_000</th>\n",
       "      <th>ad_000</th>\n",
       "      <th>ae_000</th>\n",
       "      <th>af_000</th>\n",
       "      <th>ag_000</th>\n",
       "      <th>ag_001</th>\n",
       "      <th>ag_002</th>\n",
       "      <th>...</th>\n",
       "      <th>ee_002</th>\n",
       "      <th>ee_003</th>\n",
       "      <th>ee_004</th>\n",
       "      <th>ee_005</th>\n",
       "      <th>ee_006</th>\n",
       "      <th>ee_007</th>\n",
       "      <th>ee_008</th>\n",
       "      <th>ee_009</th>\n",
       "      <th>ef_000</th>\n",
       "      <th>eg_000</th>\n",
       "    </tr>\n",
       "  </thead>\n",
       "  <tbody>\n",
       "    <tr>\n",
       "      <th>0</th>\n",
       "      <td>neg</td>\n",
       "      <td>76698</td>\n",
       "      <td>na</td>\n",
       "      <td>2130706438</td>\n",
       "      <td>280</td>\n",
       "      <td>0</td>\n",
       "      <td>0</td>\n",
       "      <td>0</td>\n",
       "      <td>0</td>\n",
       "      <td>0</td>\n",
       "      <td>...</td>\n",
       "      <td>1240520</td>\n",
       "      <td>493384</td>\n",
       "      <td>721044</td>\n",
       "      <td>469792</td>\n",
       "      <td>339156</td>\n",
       "      <td>157956</td>\n",
       "      <td>73224</td>\n",
       "      <td>0</td>\n",
       "      <td>0</td>\n",
       "      <td>0</td>\n",
       "    </tr>\n",
       "    <tr>\n",
       "      <th>1</th>\n",
       "      <td>neg</td>\n",
       "      <td>33058</td>\n",
       "      <td>na</td>\n",
       "      <td>0</td>\n",
       "      <td>na</td>\n",
       "      <td>0</td>\n",
       "      <td>0</td>\n",
       "      <td>0</td>\n",
       "      <td>0</td>\n",
       "      <td>0</td>\n",
       "      <td>...</td>\n",
       "      <td>421400</td>\n",
       "      <td>178064</td>\n",
       "      <td>293306</td>\n",
       "      <td>245416</td>\n",
       "      <td>133654</td>\n",
       "      <td>81140</td>\n",
       "      <td>97576</td>\n",
       "      <td>1500</td>\n",
       "      <td>0</td>\n",
       "      <td>0</td>\n",
       "    </tr>\n",
       "    <tr>\n",
       "      <th>2</th>\n",
       "      <td>neg</td>\n",
       "      <td>41040</td>\n",
       "      <td>na</td>\n",
       "      <td>228</td>\n",
       "      <td>100</td>\n",
       "      <td>0</td>\n",
       "      <td>0</td>\n",
       "      <td>0</td>\n",
       "      <td>0</td>\n",
       "      <td>0</td>\n",
       "      <td>...</td>\n",
       "      <td>277378</td>\n",
       "      <td>159812</td>\n",
       "      <td>423992</td>\n",
       "      <td>409564</td>\n",
       "      <td>320746</td>\n",
       "      <td>158022</td>\n",
       "      <td>95128</td>\n",
       "      <td>514</td>\n",
       "      <td>0</td>\n",
       "      <td>0</td>\n",
       "    </tr>\n",
       "    <tr>\n",
       "      <th>3</th>\n",
       "      <td>neg</td>\n",
       "      <td>12</td>\n",
       "      <td>0</td>\n",
       "      <td>70</td>\n",
       "      <td>66</td>\n",
       "      <td>0</td>\n",
       "      <td>10</td>\n",
       "      <td>0</td>\n",
       "      <td>0</td>\n",
       "      <td>0</td>\n",
       "      <td>...</td>\n",
       "      <td>240</td>\n",
       "      <td>46</td>\n",
       "      <td>58</td>\n",
       "      <td>44</td>\n",
       "      <td>10</td>\n",
       "      <td>0</td>\n",
       "      <td>0</td>\n",
       "      <td>0</td>\n",
       "      <td>4</td>\n",
       "      <td>32</td>\n",
       "    </tr>\n",
       "    <tr>\n",
       "      <th>4</th>\n",
       "      <td>neg</td>\n",
       "      <td>60874</td>\n",
       "      <td>na</td>\n",
       "      <td>1368</td>\n",
       "      <td>458</td>\n",
       "      <td>0</td>\n",
       "      <td>0</td>\n",
       "      <td>0</td>\n",
       "      <td>0</td>\n",
       "      <td>0</td>\n",
       "      <td>...</td>\n",
       "      <td>622012</td>\n",
       "      <td>229790</td>\n",
       "      <td>405298</td>\n",
       "      <td>347188</td>\n",
       "      <td>286954</td>\n",
       "      <td>311560</td>\n",
       "      <td>433954</td>\n",
       "      <td>1218</td>\n",
       "      <td>0</td>\n",
       "      <td>0</td>\n",
       "    </tr>\n",
       "  </tbody>\n",
       "</table>\n",
       "<p>5 rows × 171 columns</p>\n",
       "</div>"
      ],
      "text/plain": [
       "  class  aa_000 ab_000      ac_000 ad_000 ae_000 af_000 ag_000 ag_001 ag_002  \\\n",
       "0   neg   76698     na  2130706438    280      0      0      0      0      0   \n",
       "1   neg   33058     na           0     na      0      0      0      0      0   \n",
       "2   neg   41040     na         228    100      0      0      0      0      0   \n",
       "3   neg      12      0          70     66      0     10      0      0      0   \n",
       "4   neg   60874     na        1368    458      0      0      0      0      0   \n",
       "\n",
       "   ...   ee_002  ee_003  ee_004  ee_005  ee_006  ee_007  ee_008 ee_009 ef_000  \\\n",
       "0  ...  1240520  493384  721044  469792  339156  157956   73224      0      0   \n",
       "1  ...   421400  178064  293306  245416  133654   81140   97576   1500      0   \n",
       "2  ...   277378  159812  423992  409564  320746  158022   95128    514      0   \n",
       "3  ...      240      46      58      44      10       0       0      0      4   \n",
       "4  ...   622012  229790  405298  347188  286954  311560  433954   1218      0   \n",
       "\n",
       "  eg_000  \n",
       "0      0  \n",
       "1      0  \n",
       "2      0  \n",
       "3     32  \n",
       "4      0  \n",
       "\n",
       "[5 rows x 171 columns]"
      ]
     },
     "execution_count": 2,
     "metadata": {},
     "output_type": "execute_result"
    }
   ],
   "source": [
    "afs.head()"
   ]
  },
  {
   "cell_type": "code",
   "execution_count": 3,
   "id": "700fd053",
   "metadata": {},
   "outputs": [
    {
     "data": {
      "text/html": [
       "<div>\n",
       "<style scoped>\n",
       "    .dataframe tbody tr th:only-of-type {\n",
       "        vertical-align: middle;\n",
       "    }\n",
       "\n",
       "    .dataframe tbody tr th {\n",
       "        vertical-align: top;\n",
       "    }\n",
       "\n",
       "    .dataframe thead th {\n",
       "        text-align: right;\n",
       "    }\n",
       "</style>\n",
       "<table border=\"1\" class=\"dataframe\">\n",
       "  <thead>\n",
       "    <tr style=\"text-align: right;\">\n",
       "      <th></th>\n",
       "      <th>class</th>\n",
       "      <th>aa_000</th>\n",
       "      <th>ab_000</th>\n",
       "      <th>ac_000</th>\n",
       "      <th>ad_000</th>\n",
       "      <th>ae_000</th>\n",
       "      <th>af_000</th>\n",
       "      <th>ag_000</th>\n",
       "      <th>ag_001</th>\n",
       "      <th>ag_002</th>\n",
       "      <th>...</th>\n",
       "      <th>ee_002</th>\n",
       "      <th>ee_003</th>\n",
       "      <th>ee_004</th>\n",
       "      <th>ee_005</th>\n",
       "      <th>ee_006</th>\n",
       "      <th>ee_007</th>\n",
       "      <th>ee_008</th>\n",
       "      <th>ee_009</th>\n",
       "      <th>ef_000</th>\n",
       "      <th>eg_000</th>\n",
       "    </tr>\n",
       "  </thead>\n",
       "  <tbody>\n",
       "    <tr>\n",
       "      <th>11234</th>\n",
       "      <td>neg</td>\n",
       "      <td>30982</td>\n",
       "      <td>na</td>\n",
       "      <td>802</td>\n",
       "      <td>722</td>\n",
       "      <td>0</td>\n",
       "      <td>0</td>\n",
       "      <td>0</td>\n",
       "      <td>0</td>\n",
       "      <td>0</td>\n",
       "      <td>...</td>\n",
       "      <td>358640</td>\n",
       "      <td>213226</td>\n",
       "      <td>617600</td>\n",
       "      <td>208806</td>\n",
       "      <td>72096</td>\n",
       "      <td>34484</td>\n",
       "      <td>13654</td>\n",
       "      <td>50</td>\n",
       "      <td>0</td>\n",
       "      <td>0</td>\n",
       "    </tr>\n",
       "    <tr>\n",
       "      <th>11235</th>\n",
       "      <td>neg</td>\n",
       "      <td>10</td>\n",
       "      <td>0</td>\n",
       "      <td>52</td>\n",
       "      <td>42</td>\n",
       "      <td>0</td>\n",
       "      <td>0</td>\n",
       "      <td>0</td>\n",
       "      <td>0</td>\n",
       "      <td>0</td>\n",
       "      <td>...</td>\n",
       "      <td>2202</td>\n",
       "      <td>546</td>\n",
       "      <td>1200</td>\n",
       "      <td>1218</td>\n",
       "      <td>1204</td>\n",
       "      <td>3612</td>\n",
       "      <td>0</td>\n",
       "      <td>0</td>\n",
       "      <td>0</td>\n",
       "      <td>0</td>\n",
       "    </tr>\n",
       "    <tr>\n",
       "      <th>11236</th>\n",
       "      <td>neg</td>\n",
       "      <td>27438</td>\n",
       "      <td>na</td>\n",
       "      <td>0</td>\n",
       "      <td>na</td>\n",
       "      <td>0</td>\n",
       "      <td>0</td>\n",
       "      <td>0</td>\n",
       "      <td>0</td>\n",
       "      <td>0</td>\n",
       "      <td>...</td>\n",
       "      <td>260344</td>\n",
       "      <td>129804</td>\n",
       "      <td>273620</td>\n",
       "      <td>271118</td>\n",
       "      <td>174468</td>\n",
       "      <td>92254</td>\n",
       "      <td>66952</td>\n",
       "      <td>202</td>\n",
       "      <td>0</td>\n",
       "      <td>0</td>\n",
       "    </tr>\n",
       "    <tr>\n",
       "      <th>11237</th>\n",
       "      <td>neg</td>\n",
       "      <td>1952</td>\n",
       "      <td>na</td>\n",
       "      <td>16</td>\n",
       "      <td>16</td>\n",
       "      <td>0</td>\n",
       "      <td>0</td>\n",
       "      <td>0</td>\n",
       "      <td>0</td>\n",
       "      <td>0</td>\n",
       "      <td>...</td>\n",
       "      <td>7510</td>\n",
       "      <td>3572</td>\n",
       "      <td>13400</td>\n",
       "      <td>56310</td>\n",
       "      <td>5084</td>\n",
       "      <td>774</td>\n",
       "      <td>896</td>\n",
       "      <td>0</td>\n",
       "      <td>0</td>\n",
       "      <td>0</td>\n",
       "    </tr>\n",
       "    <tr>\n",
       "      <th>11238</th>\n",
       "      <td>neg</td>\n",
       "      <td>150934</td>\n",
       "      <td>na</td>\n",
       "      <td>0</td>\n",
       "      <td>na</td>\n",
       "      <td>0</td>\n",
       "      <td>0</td>\n",
       "      <td>0</td>\n",
       "      <td>0</td>\n",
       "      <td>0</td>\n",
       "      <td>...</td>\n",
       "      <td>NaN</td>\n",
       "      <td>NaN</td>\n",
       "      <td>NaN</td>\n",
       "      <td>NaN</td>\n",
       "      <td>NaN</td>\n",
       "      <td>NaN</td>\n",
       "      <td>NaN</td>\n",
       "      <td>NaN</td>\n",
       "      <td>NaN</td>\n",
       "      <td>NaN</td>\n",
       "    </tr>\n",
       "  </tbody>\n",
       "</table>\n",
       "<p>5 rows × 171 columns</p>\n",
       "</div>"
      ],
      "text/plain": [
       "      class  aa_000 ab_000 ac_000 ad_000 ae_000 af_000 ag_000 ag_001 ag_002  \\\n",
       "11234   neg   30982     na    802    722      0      0      0      0      0   \n",
       "11235   neg      10      0     52     42      0      0      0      0      0   \n",
       "11236   neg   27438     na      0     na      0      0      0      0      0   \n",
       "11237   neg    1952     na     16     16      0      0      0      0      0   \n",
       "11238   neg  150934     na      0     na      0      0      0      0      0   \n",
       "\n",
       "       ...  ee_002  ee_003  ee_004  ee_005  ee_006 ee_007 ee_008 ee_009  \\\n",
       "11234  ...  358640  213226  617600  208806   72096  34484  13654     50   \n",
       "11235  ...    2202     546    1200    1218    1204   3612      0      0   \n",
       "11236  ...  260344  129804  273620  271118  174468  92254  66952    202   \n",
       "11237  ...    7510    3572   13400   56310    5084    774    896      0   \n",
       "11238  ...     NaN     NaN     NaN     NaN     NaN    NaN    NaN    NaN   \n",
       "\n",
       "      ef_000 eg_000  \n",
       "11234      0      0  \n",
       "11235      0      0  \n",
       "11236      0      0  \n",
       "11237      0      0  \n",
       "11238    NaN    NaN  \n",
       "\n",
       "[5 rows x 171 columns]"
      ]
     },
     "execution_count": 3,
     "metadata": {},
     "output_type": "execute_result"
    }
   ],
   "source": [
    "afs.tail()"
   ]
  },
  {
   "cell_type": "code",
   "execution_count": null,
   "id": "377ff259",
   "metadata": {},
   "outputs": [],
   "source": []
  },
  {
   "cell_type": "code",
   "execution_count": 4,
   "id": "d15e4b80",
   "metadata": {},
   "outputs": [
    {
     "name": "stdout",
     "output_type": "stream",
     "text": [
      "<class 'pandas.core.frame.DataFrame'>\n",
      "RangeIndex: 11239 entries, 0 to 11238\n",
      "Columns: 171 entries, class to eg_000\n",
      "dtypes: int64(1), object(170)\n",
      "memory usage: 14.7+ MB\n"
     ]
    }
   ],
   "source": [
    "afs.info()\n"
   ]
  },
  {
   "cell_type": "code",
   "execution_count": 5,
   "id": "3cd9efc8",
   "metadata": {},
   "outputs": [
    {
     "data": {
      "text/html": [
       "<div>\n",
       "<style scoped>\n",
       "    .dataframe tbody tr th:only-of-type {\n",
       "        vertical-align: middle;\n",
       "    }\n",
       "\n",
       "    .dataframe tbody tr th {\n",
       "        vertical-align: top;\n",
       "    }\n",
       "\n",
       "    .dataframe thead th {\n",
       "        text-align: right;\n",
       "    }\n",
       "</style>\n",
       "<table border=\"1\" class=\"dataframe\">\n",
       "  <thead>\n",
       "    <tr style=\"text-align: right;\">\n",
       "      <th></th>\n",
       "      <th>aa_000</th>\n",
       "    </tr>\n",
       "  </thead>\n",
       "  <tbody>\n",
       "    <tr>\n",
       "      <th>count</th>\n",
       "      <td>1.123900e+04</td>\n",
       "    </tr>\n",
       "    <tr>\n",
       "      <th>mean</th>\n",
       "      <td>6.150742e+04</td>\n",
       "    </tr>\n",
       "    <tr>\n",
       "      <th>std</th>\n",
       "      <td>1.512082e+05</td>\n",
       "    </tr>\n",
       "    <tr>\n",
       "      <th>min</th>\n",
       "      <td>0.000000e+00</td>\n",
       "    </tr>\n",
       "    <tr>\n",
       "      <th>25%</th>\n",
       "      <td>9.320000e+02</td>\n",
       "    </tr>\n",
       "    <tr>\n",
       "      <th>50%</th>\n",
       "      <td>3.094200e+04</td>\n",
       "    </tr>\n",
       "    <tr>\n",
       "      <th>75%</th>\n",
       "      <td>4.849000e+04</td>\n",
       "    </tr>\n",
       "    <tr>\n",
       "      <th>max</th>\n",
       "      <td>2.746564e+06</td>\n",
       "    </tr>\n",
       "  </tbody>\n",
       "</table>\n",
       "</div>"
      ],
      "text/plain": [
       "             aa_000\n",
       "count  1.123900e+04\n",
       "mean   6.150742e+04\n",
       "std    1.512082e+05\n",
       "min    0.000000e+00\n",
       "25%    9.320000e+02\n",
       "50%    3.094200e+04\n",
       "75%    4.849000e+04\n",
       "max    2.746564e+06"
      ]
     },
     "execution_count": 5,
     "metadata": {},
     "output_type": "execute_result"
    }
   ],
   "source": [
    "afs.describe()\n"
   ]
  },
  {
   "cell_type": "code",
   "execution_count": 6,
   "id": "3cbf44fb",
   "metadata": {},
   "outputs": [
    {
     "data": {
      "text/plain": [
       "(11239, 171)"
      ]
     },
     "execution_count": 6,
     "metadata": {},
     "output_type": "execute_result"
    }
   ],
   "source": [
    "afs.shape"
   ]
  },
  {
   "cell_type": "code",
   "execution_count": null,
   "id": "4cd858cc",
   "metadata": {},
   "outputs": [],
   "source": []
  },
  {
   "cell_type": "code",
   "execution_count": 7,
   "id": "932bad98",
   "metadata": {},
   "outputs": [
    {
     "data": {
      "text/plain": [
       "class     object\n",
       "aa_000     int64\n",
       "ab_000    object\n",
       "ac_000    object\n",
       "ad_000    object\n",
       "           ...  \n",
       "ee_007    object\n",
       "ee_008    object\n",
       "ee_009    object\n",
       "ef_000    object\n",
       "eg_000    object\n",
       "Length: 171, dtype: object"
      ]
     },
     "execution_count": 7,
     "metadata": {},
     "output_type": "execute_result"
    }
   ],
   "source": [
    "afs.dtypes"
   ]
  },
  {
   "cell_type": "code",
   "execution_count": 8,
   "id": "037a1eac",
   "metadata": {},
   "outputs": [],
   "source": [
    "afs['aa_000'] = afs['aa_000'].astype('object')"
   ]
  },
  {
   "cell_type": "code",
   "execution_count": 9,
   "id": "1b083162",
   "metadata": {},
   "outputs": [
    {
     "data": {
      "text/plain": [
       "class     object\n",
       "aa_000    object\n",
       "ab_000    object\n",
       "ac_000    object\n",
       "ad_000    object\n",
       "           ...  \n",
       "ee_007    object\n",
       "ee_008    object\n",
       "ee_009    object\n",
       "ef_000    object\n",
       "eg_000    object\n",
       "Length: 171, dtype: object"
      ]
     },
     "execution_count": 9,
     "metadata": {},
     "output_type": "execute_result"
    }
   ],
   "source": [
    "afs.dtypes"
   ]
  },
  {
   "cell_type": "code",
   "execution_count": 10,
   "id": "50330172",
   "metadata": {},
   "outputs": [
    {
     "name": "stdout",
     "output_type": "stream",
     "text": [
      "Index(['class', 'aa_000', 'ab_000', 'ac_000', 'ad_000', 'ae_000', 'af_000',\n",
      "       'ag_000', 'ag_001', 'ag_002',\n",
      "       ...\n",
      "       'ee_002', 'ee_003', 'ee_004', 'ee_005', 'ee_006', 'ee_007', 'ee_008',\n",
      "       'ee_009', 'ef_000', 'eg_000'],\n",
      "      dtype='object', length=171)\n"
     ]
    }
   ],
   "source": [
    "print(afs.columns)\n"
   ]
  },
  {
   "cell_type": "code",
   "execution_count": 11,
   "id": "61347b82",
   "metadata": {},
   "outputs": [],
   "source": [
    "# Find the indices of the columns named 'aa_000'\n",
    "duplicate_column_indices = [i for i, col in enumerate(afs.columns) if col == 'aa_000']\n"
   ]
  },
  {
   "cell_type": "code",
   "execution_count": 12,
   "id": "7f6b252d",
   "metadata": {},
   "outputs": [
    {
     "name": "stdout",
     "output_type": "stream",
     "text": [
      "number of duplicate rows: (0, 171)\n"
     ]
    }
   ],
   "source": [
    "duplicate_rows_afs = afs[afs.duplicated()]\n",
    "print('number of duplicate rows:', duplicate_rows_afs.shape)"
   ]
  },
  {
   "cell_type": "code",
   "execution_count": 13,
   "id": "0abd643d",
   "metadata": {},
   "outputs": [
    {
     "name": "stdout",
     "output_type": "stream",
     "text": [
      "0        na\n",
      "1        na\n",
      "2        na\n",
      "3         0\n",
      "4        na\n",
      "         ..\n",
      "11234    na\n",
      "11235     0\n",
      "11236    na\n",
      "11237    na\n",
      "11238    na\n",
      "Name: ab_000, Length: 11239, dtype: object\n"
     ]
    }
   ],
   "source": [
    "print(afs['ab_000'])"
   ]
  },
  {
   "cell_type": "code",
   "execution_count": 14,
   "id": "2a08ed88",
   "metadata": {},
   "outputs": [
    {
     "name": "stdout",
     "output_type": "stream",
     "text": [
      "ab_000\n"
     ]
    },
    {
     "data": {
      "text/plain": [
       "0    na\n",
       "1    na\n",
       "2    na\n",
       "3     0\n",
       "4    na\n",
       "5    na\n",
       "6     0\n",
       "7    na\n",
       "8    na\n",
       "9     0\n",
       "Name: ab_000, dtype: object"
      ]
     },
     "execution_count": 14,
     "metadata": {},
     "output_type": "execute_result"
    }
   ],
   "source": [
    "print('ab_000')\n",
    "afs['ab_000'].head(10)"
   ]
  },
  {
   "cell_type": "code",
   "execution_count": 15,
   "id": "d5255112",
   "metadata": {},
   "outputs": [
    {
     "name": "stdout",
     "output_type": "stream",
     "text": [
      "0    NaN\n",
      "1    NaN\n",
      "2    NaN\n",
      "3    0.0\n",
      "4    NaN\n",
      "5    NaN\n",
      "6    0.0\n",
      "7    NaN\n",
      "8    NaN\n",
      "9    0.0\n",
      "Name: ab_000, dtype: float64\n"
     ]
    }
   ],
   "source": [
    "missing_value_formats = [\"n.a.\",\"?\",\"NA\",\"n/a\", \"na\", \"--\"]\n",
    "afs = pd.read_csv('aps_failure_set.csv', na_values = missing_value_formats)\n",
    "print(afs['ab_000'].head(10))"
   ]
  },
  {
   "cell_type": "code",
   "execution_count": 16,
   "id": "4054bc8d",
   "metadata": {},
   "outputs": [
    {
     "data": {
      "text/plain": [
       "True"
      ]
     },
     "execution_count": 16,
     "metadata": {},
     "output_type": "execute_result"
    }
   ],
   "source": [
    "afs.isnull().values.any()"
   ]
  },
  {
   "cell_type": "code",
   "execution_count": 17,
   "id": "5de840e8",
   "metadata": {},
   "outputs": [
    {
     "data": {
      "text/plain": [
       "class      0.000000\n",
       "aa_000     0.000000\n",
       "ab_000    77.845004\n",
       "ac_000     5.961384\n",
       "ad_000    24.664116\n",
       "            ...    \n",
       "ee_007     1.299048\n",
       "ee_008     1.299048\n",
       "ee_009     1.299048\n",
       "ef_000     4.920367\n",
       "eg_000     4.920367\n",
       "Length: 171, dtype: float64"
      ]
     },
     "execution_count": 17,
     "metadata": {},
     "output_type": "execute_result"
    }
   ],
   "source": [
    "(afs.isnull().sum()/(len(afs)))*100"
   ]
  },
  {
   "cell_type": "code",
   "execution_count": 18,
   "id": "468d4686",
   "metadata": {},
   "outputs": [
    {
     "data": {
      "text/plain": [
       "class        0\n",
       "aa_000       0\n",
       "ab_000    8749\n",
       "ac_000     670\n",
       "ad_000    2772\n",
       "          ... \n",
       "ee_007     146\n",
       "ee_008     146\n",
       "ee_009     146\n",
       "ef_000     553\n",
       "eg_000     553\n",
       "Length: 171, dtype: int64"
      ]
     },
     "execution_count": 18,
     "metadata": {},
     "output_type": "execute_result"
    }
   ],
   "source": [
    "afs.isnull().sum()"
   ]
  },
  {
   "cell_type": "code",
   "execution_count": 19,
   "id": "0d635bb5",
   "metadata": {},
   "outputs": [
    {
     "name": "stdout",
     "output_type": "stream",
     "text": [
      "class        0\n",
      "aa_000       0\n",
      "ab_000    8749\n",
      "ac_000     670\n",
      "ad_000    2772\n",
      "ae_000     501\n",
      "af_000     501\n",
      "ag_000     143\n",
      "ag_001     143\n",
      "ag_002     143\n",
      "ag_003     143\n",
      "ag_004     143\n",
      "ag_005     143\n",
      "ag_006     143\n",
      "ag_007     143\n",
      "ag_008     143\n",
      "ag_009     143\n",
      "ah_000     134\n",
      "ai_000     124\n",
      "aj_000     124\n",
      "ak_000     885\n",
      "al_000     132\n",
      "am_0       124\n",
      "an_000     132\n",
      "ao_000     112\n",
      "ap_000     132\n",
      "aq_000     112\n",
      "ar_000     552\n",
      "as_000     124\n",
      "at_000     124\n",
      "au_000     124\n",
      "av_000     501\n",
      "ax_000     501\n",
      "ay_000     145\n",
      "ay_001     145\n",
      "ay_002     145\n",
      "ay_003     145\n",
      "ay_004     145\n",
      "ay_005     145\n",
      "ay_006     145\n",
      "ay_007     145\n",
      "ay_008     145\n",
      "ay_009     145\n",
      "az_000     145\n",
      "az_001     145\n",
      "az_002     145\n",
      "az_003     145\n",
      "az_004     145\n",
      "az_005     145\n",
      "az_006     145\n",
      "az_007     145\n",
      "az_008     145\n",
      "az_009     145\n",
      "ba_000     146\n",
      "ba_001     146\n",
      "ba_002     146\n",
      "ba_003     146\n",
      "ba_004     146\n",
      "ba_005     146\n",
      "ba_006     146\n",
      "ba_007     146\n",
      "ba_008     146\n",
      "ba_009     146\n",
      "bb_000     134\n",
      "bc_000     552\n",
      "bd_000     552\n",
      "be_000     501\n",
      "bf_000     501\n",
      "bg_000     132\n",
      "bh_000     132\n",
      "bi_000     112\n",
      "bj_000     112\n",
      "bk_000    4202\n",
      "bl_000    5014\n",
      "bm_000    7336\n",
      "bn_000    8177\n",
      "bo_000    8634\n",
      "bp_000    8909\n",
      "bq_000    9072\n",
      "br_000    9165\n",
      "bs_000     145\n",
      "bt_000      48\n",
      "bu_000     145\n",
      "bv_000     145\n",
      "bx_000     640\n",
      "by_000      95\n",
      "bz_000     553\n",
      "ca_000     879\n",
      "cb_000     145\n",
      "cc_000     640\n",
      "cd_000     132\n",
      "ce_000     502\n",
      "cf_000    2772\n",
      "cg_000    2772\n",
      "ch_000    2772\n",
      "ci_000      74\n",
      "cj_000      74\n",
      "ck_000      74\n",
      "cl_000    1824\n",
      "cm_000    1890\n",
      "cn_000     147\n",
      "cn_001     147\n",
      "cn_002     147\n",
      "cn_003     147\n",
      "cn_004     147\n",
      "cn_005     147\n",
      "cn_006     147\n",
      "cn_007     147\n",
      "cn_008     147\n",
      "cn_009     147\n",
      "co_000    2772\n",
      "cp_000     553\n",
      "cq_000     145\n",
      "cr_000    8749\n",
      "cs_000     144\n",
      "cs_001     144\n",
      "cs_002     144\n",
      "cs_003     144\n",
      "cs_004     144\n",
      "cs_005     144\n",
      "cs_006     144\n",
      "cs_007     144\n",
      "cs_008     144\n",
      "cs_009     144\n",
      "ct_000    2588\n",
      "cu_000    2588\n",
      "cv_000    2588\n",
      "cx_000    2588\n",
      "cy_000    2588\n",
      "cz_000    2588\n",
      "da_000    2588\n",
      "db_000    2588\n",
      "dc_000    2588\n",
      "dd_000     502\n",
      "de_000     553\n",
      "df_000     809\n",
      "dg_000     809\n",
      "dh_000     809\n",
      "di_000     809\n",
      "dj_000     809\n",
      "dk_000     809\n",
      "dl_000     809\n",
      "dm_000     809\n",
      "dn_000     145\n",
      "do_000     553\n",
      "dp_000     553\n",
      "dq_000     553\n",
      "dr_000     553\n",
      "ds_000     553\n",
      "dt_000     553\n",
      "du_000     553\n",
      "dv_000     553\n",
      "dx_000     553\n",
      "dy_000     553\n",
      "dz_000     553\n",
      "ea_000     553\n",
      "eb_000     809\n",
      "ec_00     1953\n",
      "ed_000    1824\n",
      "ee_000     146\n",
      "ee_001     146\n",
      "ee_002     146\n",
      "ee_003     146\n",
      "ee_004     146\n",
      "ee_005     146\n",
      "ee_006     146\n",
      "ee_007     146\n",
      "ee_008     146\n",
      "ee_009     146\n",
      "ef_000     553\n",
      "eg_000     553\n",
      "dtype: int64\n"
     ]
    }
   ],
   "source": [
    "pd.set_option('display.max_rows', None)\n",
    "missing_values = afs.isna().sum()\n",
    "print(missing_values)"
   ]
  },
  {
   "cell_type": "code",
   "execution_count": 20,
   "id": "0502fe84",
   "metadata": {},
   "outputs": [
    {
     "data": {
      "text/plain": [
       "False"
      ]
     },
     "execution_count": 20,
     "metadata": {},
     "output_type": "execute_result"
    }
   ],
   "source": [
    "afs = afs.dropna(axis=0)\n",
    "afs.isnull().values.any()\n"
   ]
  },
  {
   "cell_type": "code",
   "execution_count": 21,
   "id": "6e0ecf3e",
   "metadata": {},
   "outputs": [
    {
     "name": "stdout",
     "output_type": "stream",
     "text": [
      "Index(['class', 'aa_000', 'ab_000', 'ac_000', 'ad_000', 'ae_000', 'af_000',\n",
      "       'ag_000', 'ag_001', 'ag_002',\n",
      "       ...\n",
      "       'ee_002', 'ee_003', 'ee_004', 'ee_005', 'ee_006', 'ee_007', 'ee_008',\n",
      "       'ee_009', 'ef_000', 'eg_000'],\n",
      "      dtype='object', length=171)\n",
      "False\n"
     ]
    },
    {
     "data": {
      "text/plain": [
       "(114, 171)"
      ]
     },
     "execution_count": 21,
     "metadata": {},
     "output_type": "execute_result"
    }
   ],
   "source": [
    "print(afs.columns)\n",
    "print(any(afs.columns.duplicated()))\n",
    "afs.shape\n"
   ]
  },
  {
   "cell_type": "code",
   "execution_count": 22,
   "id": "87752dc8",
   "metadata": {},
   "outputs": [
    {
     "name": "stdout",
     "output_type": "stream",
     "text": [
      "Index(['class', 'aa_000', 'ab_000', 'ac_000', 'ad_000', 'ae_000', 'af_000',\n",
      "       'ag_000', 'ag_001', 'ag_002',\n",
      "       ...\n",
      "       'ee_002', 'ee_003', 'ee_004', 'ee_005', 'ee_006', 'ee_007', 'ee_008',\n",
      "       'ee_009', 'ef_000', 'eg_000'],\n",
      "      dtype='object', length=171)\n",
      "False\n"
     ]
    },
    {
     "data": {
      "text/plain": [
       "(114, 171)"
      ]
     },
     "execution_count": 22,
     "metadata": {},
     "output_type": "execute_result"
    }
   ],
   "source": [
    "print(afs.columns)\n",
    "print(any(afs.columns.duplicated()))\n",
    "afs.shape"
   ]
  },
  {
   "cell_type": "code",
   "execution_count": 23,
   "id": "2947deb2",
   "metadata": {},
   "outputs": [
    {
     "name": "stdout",
     "output_type": "stream",
     "text": [
      "br_000    9165\n",
      "bq_000    9072\n",
      "bp_000    8909\n",
      "ab_000    8749\n",
      "cr_000    8749\n",
      "bo_000    8634\n",
      "bn_000    8177\n",
      "bm_000    7336\n",
      "bl_000    5014\n",
      "bk_000    4202\n",
      "co_000    2772\n",
      "ch_000    2772\n",
      "cg_000    2772\n",
      "cf_000    2772\n",
      "ad_000    2772\n",
      "cu_000    2588\n",
      "ct_000    2588\n",
      "cx_000    2588\n",
      "dc_000    2588\n",
      "db_000    2588\n",
      "da_000    2588\n",
      "cv_000    2588\n",
      "cz_000    2588\n",
      "cy_000    2588\n",
      "ec_00     1953\n",
      "cm_000    1890\n",
      "cl_000    1824\n",
      "ed_000    1824\n",
      "ak_000     885\n",
      "ca_000     879\n",
      "dk_000     809\n",
      "eb_000     809\n",
      "dl_000     809\n",
      "dm_000     809\n",
      "di_000     809\n",
      "dh_000     809\n",
      "dg_000     809\n",
      "df_000     809\n",
      "dj_000     809\n",
      "ac_000     670\n",
      "bx_000     640\n",
      "cc_000     640\n",
      "cp_000     553\n",
      "ef_000     553\n",
      "eg_000     553\n",
      "bz_000     553\n",
      "dy_000     553\n",
      "de_000     553\n",
      "ds_000     553\n",
      "dt_000     553\n",
      "du_000     553\n",
      "dv_000     553\n",
      "dr_000     553\n",
      "dx_000     553\n",
      "dz_000     553\n",
      "dp_000     553\n",
      "do_000     553\n",
      "ea_000     553\n",
      "dq_000     553\n",
      "ar_000     552\n",
      "bd_000     552\n",
      "bc_000     552\n",
      "ce_000     502\n",
      "dd_000     502\n",
      "be_000     501\n",
      "ae_000     501\n",
      "bf_000     501\n",
      "af_000     501\n",
      "ax_000     501\n",
      "av_000     501\n",
      "cn_006     147\n",
      "cn_009     147\n",
      "cn_008     147\n",
      "cn_001     147\n",
      "cn_000     147\n",
      "cn_005     147\n",
      "cn_004     147\n",
      "cn_003     147\n",
      "cn_002     147\n",
      "cn_007     147\n",
      "ee_008     146\n",
      "ee_000     146\n",
      "ee_001     146\n",
      "ee_002     146\n",
      "ee_003     146\n",
      "ee_007     146\n",
      "ee_006     146\n",
      "ee_004     146\n",
      "ba_006     146\n",
      "ba_002     146\n",
      "ba_004     146\n",
      "ba_005     146\n",
      "ba_001     146\n",
      "ba_007     146\n",
      "ba_008     146\n",
      "ba_009     146\n",
      "ba_000     146\n",
      "ba_003     146\n",
      "ee_005     146\n",
      "ee_009     146\n",
      "ay_008     145\n",
      "ay_009     145\n",
      "az_000     145\n",
      "az_001     145\n",
      "az_002     145\n",
      "ay_007     145\n",
      "cb_000     145\n",
      "az_005     145\n",
      "ay_006     145\n",
      "ay_005     145\n",
      "ay_004     145\n",
      "ay_003     145\n",
      "ay_002     145\n",
      "ay_001     145\n",
      "ay_000     145\n",
      "dn_000     145\n",
      "az_004     145\n",
      "az_003     145\n",
      "bu_000     145\n",
      "az_006     145\n",
      "bv_000     145\n",
      "bs_000     145\n",
      "az_009     145\n",
      "az_008     145\n",
      "az_007     145\n",
      "cq_000     145\n",
      "cs_005     144\n",
      "cs_004     144\n",
      "cs_000     144\n",
      "cs_008     144\n",
      "cs_001     144\n",
      "cs_007     144\n",
      "cs_006     144\n",
      "cs_009     144\n",
      "cs_003     144\n",
      "cs_002     144\n",
      "ag_009     143\n",
      "ag_005     143\n",
      "ag_000     143\n",
      "ag_001     143\n",
      "ag_002     143\n",
      "ag_008     143\n",
      "ag_003     143\n",
      "ag_007     143\n",
      "ag_004     143\n",
      "ag_006     143\n",
      "ah_000     134\n",
      "bb_000     134\n",
      "an_000     132\n",
      "al_000     132\n",
      "ap_000     132\n",
      "bg_000     132\n",
      "bh_000     132\n",
      "cd_000     132\n",
      "at_000     124\n",
      "ai_000     124\n",
      "aj_000     124\n",
      "am_0       124\n",
      "as_000     124\n",
      "au_000     124\n",
      "aq_000     112\n",
      "bj_000     112\n",
      "bi_000     112\n",
      "ao_000     112\n",
      "by_000      95\n",
      "ck_000      74\n",
      "cj_000      74\n",
      "ci_000      74\n",
      "bt_000      48\n",
      "aa_000       0\n",
      "class        0\n",
      "dtype: int64\n"
     ]
    }
   ],
   "source": [
    "sorted_missing_values = missing_values.sort_values(ascending=False)\n",
    "print(sorted_missing_values)"
   ]
  },
  {
   "cell_type": "code",
   "execution_count": 24,
   "id": "2bc32b2b",
   "metadata": {},
   "outputs": [
    {
     "name": "stdout",
     "output_type": "stream",
     "text": [
      "br_000    8039.473684\n",
      "bq_000    7957.894737\n",
      "bp_000    7814.912281\n",
      "ab_000    7674.561404\n",
      "cr_000    7674.561404\n",
      "bo_000    7573.684211\n",
      "bn_000    7172.807018\n",
      "bm_000    6435.087719\n",
      "bl_000    4398.245614\n",
      "bk_000    3685.964912\n",
      "co_000    2431.578947\n",
      "ch_000    2431.578947\n",
      "cg_000    2431.578947\n",
      "cf_000    2431.578947\n",
      "ad_000    2431.578947\n",
      "cu_000    2270.175439\n",
      "ct_000    2270.175439\n",
      "cx_000    2270.175439\n",
      "dc_000    2270.175439\n",
      "db_000    2270.175439\n",
      "da_000    2270.175439\n",
      "cv_000    2270.175439\n",
      "cz_000    2270.175439\n",
      "cy_000    2270.175439\n",
      "ec_00     1713.157895\n",
      "cm_000    1657.894737\n",
      "cl_000    1600.000000\n",
      "ed_000    1600.000000\n",
      "ak_000     776.315789\n",
      "ca_000     771.052632\n",
      "dk_000     709.649123\n",
      "eb_000     709.649123\n",
      "dl_000     709.649123\n",
      "dm_000     709.649123\n",
      "di_000     709.649123\n",
      "dh_000     709.649123\n",
      "dg_000     709.649123\n",
      "df_000     709.649123\n",
      "dj_000     709.649123\n",
      "ac_000     587.719298\n",
      "bx_000     561.403509\n",
      "cc_000     561.403509\n",
      "cp_000     485.087719\n",
      "ef_000     485.087719\n",
      "eg_000     485.087719\n",
      "bz_000     485.087719\n",
      "dy_000     485.087719\n",
      "de_000     485.087719\n",
      "ds_000     485.087719\n",
      "dt_000     485.087719\n",
      "du_000     485.087719\n",
      "dv_000     485.087719\n",
      "dr_000     485.087719\n",
      "dx_000     485.087719\n",
      "dz_000     485.087719\n",
      "dp_000     485.087719\n",
      "do_000     485.087719\n",
      "ea_000     485.087719\n",
      "dq_000     485.087719\n",
      "ar_000     484.210526\n",
      "bd_000     484.210526\n",
      "bc_000     484.210526\n",
      "ce_000     440.350877\n",
      "dd_000     440.350877\n",
      "be_000     439.473684\n",
      "ae_000     439.473684\n",
      "bf_000     439.473684\n",
      "af_000     439.473684\n",
      "ax_000     439.473684\n",
      "av_000     439.473684\n",
      "cn_006     128.947368\n",
      "cn_009     128.947368\n",
      "cn_008     128.947368\n",
      "cn_001     128.947368\n",
      "cn_000     128.947368\n",
      "cn_005     128.947368\n",
      "cn_004     128.947368\n",
      "cn_003     128.947368\n",
      "cn_002     128.947368\n",
      "cn_007     128.947368\n",
      "ee_008     128.070175\n",
      "ee_000     128.070175\n",
      "ee_001     128.070175\n",
      "ee_002     128.070175\n",
      "ee_003     128.070175\n",
      "ee_007     128.070175\n",
      "ee_006     128.070175\n",
      "ee_004     128.070175\n",
      "ba_006     128.070175\n",
      "ba_002     128.070175\n",
      "ba_004     128.070175\n",
      "ba_005     128.070175\n",
      "ba_001     128.070175\n",
      "ba_007     128.070175\n",
      "ba_008     128.070175\n",
      "ba_009     128.070175\n",
      "ba_000     128.070175\n",
      "ba_003     128.070175\n",
      "ee_005     128.070175\n",
      "ee_009     128.070175\n",
      "ay_008     127.192982\n",
      "ay_009     127.192982\n",
      "az_000     127.192982\n",
      "az_001     127.192982\n",
      "az_002     127.192982\n",
      "ay_007     127.192982\n",
      "cb_000     127.192982\n",
      "az_005     127.192982\n",
      "ay_006     127.192982\n",
      "ay_005     127.192982\n",
      "ay_004     127.192982\n",
      "ay_003     127.192982\n",
      "ay_002     127.192982\n",
      "ay_001     127.192982\n",
      "ay_000     127.192982\n",
      "dn_000     127.192982\n",
      "az_004     127.192982\n",
      "az_003     127.192982\n",
      "bu_000     127.192982\n",
      "az_006     127.192982\n",
      "bv_000     127.192982\n",
      "bs_000     127.192982\n",
      "az_009     127.192982\n",
      "az_008     127.192982\n",
      "az_007     127.192982\n",
      "cq_000     127.192982\n",
      "cs_005     126.315789\n",
      "cs_004     126.315789\n",
      "cs_000     126.315789\n",
      "cs_008     126.315789\n",
      "cs_001     126.315789\n",
      "cs_007     126.315789\n",
      "cs_006     126.315789\n",
      "cs_009     126.315789\n",
      "cs_003     126.315789\n",
      "cs_002     126.315789\n",
      "ag_009     125.438596\n",
      "ag_005     125.438596\n",
      "ag_000     125.438596\n",
      "ag_001     125.438596\n",
      "ag_002     125.438596\n",
      "ag_008     125.438596\n",
      "ag_003     125.438596\n",
      "ag_007     125.438596\n",
      "ag_004     125.438596\n",
      "ag_006     125.438596\n",
      "ah_000     117.543860\n",
      "bb_000     117.543860\n",
      "an_000     115.789474\n",
      "al_000     115.789474\n",
      "ap_000     115.789474\n",
      "bg_000     115.789474\n",
      "bh_000     115.789474\n",
      "cd_000     115.789474\n",
      "at_000     108.771930\n",
      "ai_000     108.771930\n",
      "aj_000     108.771930\n",
      "am_0       108.771930\n",
      "as_000     108.771930\n",
      "au_000     108.771930\n",
      "aq_000      98.245614\n",
      "bj_000      98.245614\n",
      "bi_000      98.245614\n",
      "ao_000      98.245614\n",
      "by_000      83.333333\n",
      "ck_000      64.912281\n",
      "cj_000      64.912281\n",
      "ci_000      64.912281\n",
      "bt_000      42.105263\n",
      "aa_000       0.000000\n",
      "class        0.000000\n",
      "dtype: float64\n"
     ]
    }
   ],
   "source": [
    "total_rows = afs.shape[0]\n",
    "missing_values_percentage = (missing_values / total_rows) * 100\n",
    "sorted_missing_values_percentage = missing_values_percentage.sort_values(ascending=False)\n",
    "print(sorted_missing_values_percentage)"
   ]
  },
  {
   "cell_type": "code",
   "execution_count": 25,
   "id": "c95a309e",
   "metadata": {},
   "outputs": [
    {
     "name": "stdout",
     "output_type": "stream",
     "text": [
      "Index(['class', 'aa_000', 'ab_000', 'ac_000', 'ad_000', 'ae_000', 'af_000',\n",
      "       'ag_000', 'ag_001', 'ag_002',\n",
      "       ...\n",
      "       'ee_002', 'ee_003', 'ee_004', 'ee_005', 'ee_006', 'ee_007', 'ee_008',\n",
      "       'ee_009', 'ef_000', 'eg_000'],\n",
      "      dtype='object', length=171)\n"
     ]
    }
   ],
   "source": [
    "print(afs.columns)"
   ]
  },
  {
   "cell_type": "code",
   "execution_count": 26,
   "id": "656f4560",
   "metadata": {},
   "outputs": [],
   "source": [
    "cols_to_remove = [\n",
    "    'br_000', 'bq_000', 'bp_000', 'bo_000', 'ab_000', 'cr_000', 'bn_000', \n",
    "    'bm_000', 'bl_000', 'bk_000', 'co_000', 'ch_000', 'cg_000', 'cf_000', \n",
    "    'ad_000', 'cu_000', 'ct_000', 'cx_000', 'dc_000', 'db_000', 'da_000', \n",
    "    'cv_000', 'cz_000', 'cy_000', 'ec_00', 'cm_000', 'cl_000', 'ed_000', \n",
    "    'ak_000', 'ca_000', 'dk_000', 'eb_000', 'dl_000', 'dm_000', 'di_000', \n",
    "    'dh_000', 'dg_000', 'df_000', 'dj_000', 'ac_000', 'bx_000', 'cc_000', \n",
    "    'cp_000', 'ef_000', 'eg_000', 'bz_000', 'dy_000', 'de_000', 'ds_000', \n",
    "    'dt_000', 'du_000', 'dv_000', 'dr_000', 'dx_000', 'dz_000', 'dp_000', \n",
    "    'do_000', 'ea_000', 'dq_000', 'ar_000', 'bd_000', 'bc_000', 'ce_000', \n",
    "    'dd_000', 'be_000', 'ae_000', 'bf_000', 'af_000', 'ax_000', 'av_000'\n",
    "]\n",
    "afs = afs.drop(columns=cols_to_remove)\n"
   ]
  },
  {
   "cell_type": "markdown",
   "id": "c49b333e",
   "metadata": {},
   "source": [
    "\n",
    "I have decided that anything with less then 70% readable data is not useable so I will cut anything that is under 70% usuable data. This includes: \n",
    "\n",
    "br_000\n",
    "bq_000\n",
    "bp_000\n",
    "bo_000\n",
    "ab_000\n",
    "cr_000\n",
    "bn_000\n",
    "bm_000\n",
    "bl_000\n",
    "bk_000\n",
    "ad_000\n",
    "ch_000\n",
    "co_000\n",
    "cf_000\n",
    "cg_000\n",
    "db_000\n",
    "ct_000\n",
    "cu_000\n",
    "cv_000\n",
    "cx_000\n",
    "cy_000\n",
    "cz_000\n",
    "da_000\n",
    "dc_000\n",
    "ec_00\n",
    "cm_000\n",
    "ed_000\n",
    "cl_000\n"
   ]
  },
  {
   "cell_type": "code",
   "execution_count": null,
   "id": "fb0bb382",
   "metadata": {},
   "outputs": [],
   "source": []
  },
  {
   "cell_type": "code",
   "execution_count": 27,
   "id": "17f7ac9e",
   "metadata": {},
   "outputs": [
    {
     "name": "stdout",
     "output_type": "stream",
     "text": [
      "Index(['class', 'aa_000', 'ag_000', 'ag_001', 'ag_002', 'ag_003', 'ag_004',\n",
      "       'ag_005', 'ag_006', 'ag_007',\n",
      "       ...\n",
      "       'ee_000', 'ee_001', 'ee_002', 'ee_003', 'ee_004', 'ee_005', 'ee_006',\n",
      "       'ee_007', 'ee_008', 'ee_009'],\n",
      "      dtype='object', length=101)\n"
     ]
    }
   ],
   "source": [
    "print(afs.columns)"
   ]
  },
  {
   "cell_type": "code",
   "execution_count": 28,
   "id": "b329bec0",
   "metadata": {},
   "outputs": [
    {
     "data": {
      "text/plain": [
       "(114, 101)"
      ]
     },
     "execution_count": 28,
     "metadata": {},
     "output_type": "execute_result"
    }
   ],
   "source": [
    "afs.shape"
   ]
  },
  {
   "cell_type": "code",
   "execution_count": null,
   "id": "cdef403c",
   "metadata": {},
   "outputs": [],
   "source": []
  },
  {
   "cell_type": "code",
   "execution_count": null,
   "id": "3a5bb518",
   "metadata": {},
   "outputs": [],
   "source": []
  },
  {
   "cell_type": "code",
   "execution_count": 29,
   "id": "541140aa",
   "metadata": {},
   "outputs": [],
   "source": [
    "afs = afs.drop(afs[afs['class'] == 'neg'].index)"
   ]
  },
  {
   "cell_type": "code",
   "execution_count": 30,
   "id": "e28798fe",
   "metadata": {},
   "outputs": [
    {
     "data": {
      "text/plain": [
       "(394    pos\n",
       " 413    pos\n",
       " 649    pos\n",
       " 749    pos\n",
       " 830    pos\n",
       " Name: class, dtype: object,\n",
       " pos    1.0\n",
       " Name: class, dtype: float64)"
      ]
     },
     "execution_count": 30,
     "metadata": {},
     "output_type": "execute_result"
    }
   ],
   "source": [
    "(afs['class'].head(), afs['class'].value_counts(normalize=True))"
   ]
  },
  {
   "cell_type": "code",
   "execution_count": 31,
   "id": "2b60fa5c",
   "metadata": {},
   "outputs": [
    {
     "data": {
      "text/html": [
       "<div>\n",
       "<style scoped>\n",
       "    .dataframe tbody tr th:only-of-type {\n",
       "        vertical-align: middle;\n",
       "    }\n",
       "\n",
       "    .dataframe tbody tr th {\n",
       "        vertical-align: top;\n",
       "    }\n",
       "\n",
       "    .dataframe thead th {\n",
       "        text-align: right;\n",
       "    }\n",
       "</style>\n",
       "<table border=\"1\" class=\"dataframe\">\n",
       "  <thead>\n",
       "    <tr style=\"text-align: right;\">\n",
       "      <th></th>\n",
       "      <th>class</th>\n",
       "    </tr>\n",
       "  </thead>\n",
       "  <tbody>\n",
       "    <tr>\n",
       "      <th>count</th>\n",
       "      <td>18</td>\n",
       "    </tr>\n",
       "    <tr>\n",
       "      <th>unique</th>\n",
       "      <td>1</td>\n",
       "    </tr>\n",
       "    <tr>\n",
       "      <th>top</th>\n",
       "      <td>pos</td>\n",
       "    </tr>\n",
       "    <tr>\n",
       "      <th>freq</th>\n",
       "      <td>18</td>\n",
       "    </tr>\n",
       "  </tbody>\n",
       "</table>\n",
       "</div>"
      ],
      "text/plain": [
       "       class\n",
       "count     18\n",
       "unique     1\n",
       "top      pos\n",
       "freq      18"
      ]
     },
     "execution_count": 31,
     "metadata": {},
     "output_type": "execute_result"
    }
   ],
   "source": [
    "afs.describe(include=object)"
   ]
  },
  {
   "cell_type": "code",
   "execution_count": 32,
   "id": "ab6b43f8",
   "metadata": {},
   "outputs": [
    {
     "name": "stdout",
     "output_type": "stream",
     "text": [
      "     class   aa_000  ag_000    ag_001     ag_002      ag_003      ag_004  \\\n",
      "394    pos   281324  4808.0  215720.0   967572.0   2037438.0   3416030.0   \n",
      "413    pos    43482     0.0       0.0    40024.0    493856.0   6831358.0   \n",
      "649    pos   892422     0.0    2716.0   656148.0   6846624.0  21333132.0   \n",
      "749    pos   176346     0.0       0.0    65836.0   1630616.0   6046848.0   \n",
      "830    pos   460990     0.0    1094.0    63812.0    911674.0   4005628.0   \n",
      "1398   pos   110502     0.0       0.0        0.0         0.0      5030.0   \n",
      "2520   pos    64952     0.0    3268.0   186684.0   1832492.0   4689994.0   \n",
      "3399   pos   187426     0.0   24350.0   157088.0   1492904.0   5349622.0   \n",
      "4851   pos   533714     0.0     174.0   481898.0   4981798.0   5902426.0   \n",
      "4967   pos   976574     0.0       0.0        0.0         0.0    102372.0   \n",
      "5669   pos   120540     0.0       0.0    13352.0    724032.0   4763708.0   \n",
      "5748   pos   195268     0.0       0.0    69162.0    569778.0   3669832.0   \n",
      "6239   pos   491292     0.0       0.0        0.0         0.0         0.0   \n",
      "6261   pos   100082     0.0   15952.0   214838.0   1843474.0   5575770.0   \n",
      "6908   pos  1243976    30.0  290132.0  3805536.0  20399296.0  35160270.0   \n",
      "9082   pos   511552     0.0       0.0        0.0     37438.0    807726.0   \n",
      "9436   pos  1196158     0.0       0.0        0.0      1826.0    107070.0   \n",
      "9874   pos  1032510  7212.0  303376.0  2266780.0  12425434.0  28358188.0   \n",
      "\n",
      "          ag_005     ag_006     ag_007  ...      ee_000      ee_001  \\\n",
      "394    1725790.0   297726.0    26190.0  ...   3787316.0    926638.0   \n",
      "413   12916128.0  6733314.0   794698.0  ...  22205204.0   3909586.0   \n",
      "649   22695462.0  8334248.0  1986652.0  ...  18397906.0   4428482.0   \n",
      "749    8558602.0  3968884.0  1505456.0  ...   9531556.0   4754898.0   \n",
      "830    3961120.0  1129718.0   170674.0  ...   2201442.0   1107896.0   \n",
      "1398    280548.0   268428.0    70162.0  ...    382536.0     72078.0   \n",
      "2520   6562292.0  5918500.0  3194194.0  ...  19479258.0   1599656.0   \n",
      "3399   3759820.0   888092.0     2864.0  ...   1125540.0   2170858.0   \n",
      "4851   1954680.0   499138.0   252328.0  ...   6028686.0   1686868.0   \n",
      "4967    586962.0   307966.0   161628.0  ...    407610.0    178650.0   \n",
      "5669   5734042.0  1522372.0   319288.0  ...   3642498.0   4265726.0   \n",
      "5748   4329458.0  1723420.0   410480.0  ...   1025516.0   1374212.0   \n",
      "6239         0.0        0.0        0.0  ...         0.0         0.0   \n",
      "6261   2084948.0   939428.0   595354.0  ...   8846656.0   1590336.0   \n",
      "6908  30509680.0  8676690.0   666892.0  ...  29247086.0  12763968.0   \n",
      "9082    146036.0     7096.0      420.0  ...    170910.0    169590.0   \n",
      "9436    224732.0    39710.0     9750.0  ...     76674.0     42322.0   \n",
      "9874  26079130.0  9203582.0  2212134.0  ...  23527730.0   9891452.0   \n",
      "\n",
      "          ee_002     ee_003      ee_004      ee_005      ee_006     ee_007  \\\n",
      "394     624606.0   269976.0    638838.0   1358354.0    819918.0   262804.0   \n",
      "413     497196.0   121166.0    202272.0    232636.0    645690.0       50.0   \n",
      "649    3500996.0  1980134.0   5102372.0   7882256.0  14095922.0  6605678.0   \n",
      "749    2428526.0   720862.0   1189150.0   1710512.0   1018248.0   626354.0   \n",
      "830     864476.0   336864.0    820060.0   1116896.0   2489538.0  1271120.0   \n",
      "1398     50822.0    22460.0     36744.0     20498.0     15926.0    21798.0   \n",
      "2520    621934.0   222504.0    475288.0    553688.0    420948.0   470258.0   \n",
      "3399   1227608.0   465158.0   1009598.0   4375152.0   1021132.0   274062.0   \n",
      "4851   1355012.0   614146.0   1252870.0   1612098.0   1288688.0   310042.0   \n",
      "4967    158556.0    40750.0     88334.0    134234.0    125054.0    81524.0   \n",
      "5669   1818388.0   622054.0   1291856.0    726114.0    686860.0    42256.0   \n",
      "5748    945840.0   403650.0    835958.0    882110.0   2056392.0  3236850.0   \n",
      "6239         0.0        0.0         0.0         0.0         0.0        0.0   \n",
      "6261   1089470.0   391808.0    761966.0   1265712.0    860890.0   160666.0   \n",
      "6908  11705774.0  4825700.0  10423908.0  19516670.0   7073896.0  3807070.0   \n",
      "9082    102474.0    48008.0     65134.0     60038.0    362590.0    17528.0   \n",
      "9436     18844.0    13454.0     36400.0     78564.0     98542.0    17622.0   \n",
      "9874   9383928.0  3999510.0   7595646.0  14600942.0   9247210.0  2594440.0   \n",
      "\n",
      "        ee_008  ee_009  \n",
      "394     2824.0     0.0  \n",
      "413        0.0     0.0  \n",
      "649   206190.0   774.0  \n",
      "749    32208.0     0.0  \n",
      "830    41198.0    20.0  \n",
      "1398    1306.0     0.0  \n",
      "2520   12530.0     0.0  \n",
      "3399    5632.0     0.0  \n",
      "4851    4502.0     0.0  \n",
      "4967    1066.0     0.0  \n",
      "5669     890.0     0.0  \n",
      "5748   55652.0     0.0  \n",
      "6239       0.0     0.0  \n",
      "6261   21906.0     0.0  \n",
      "6908  145478.0    28.0  \n",
      "9082    2444.0     0.0  \n",
      "9436     748.0     0.0  \n",
      "9874  148896.0     0.0  \n",
      "\n",
      "[18 rows x 101 columns]\n"
     ]
    }
   ],
   "source": [
    "afs.describe(include=object)\n",
    "print(afs)"
   ]
  },
  {
   "cell_type": "code",
   "execution_count": null,
   "id": "5cad0e53",
   "metadata": {},
   "outputs": [],
   "source": []
  },
  {
   "cell_type": "code",
   "execution_count": 33,
   "id": "980a0e9d",
   "metadata": {},
   "outputs": [
    {
     "data": {
      "text/plain": [
       "(18, 101)"
      ]
     },
     "execution_count": 33,
     "metadata": {},
     "output_type": "execute_result"
    }
   ],
   "source": [
    "afs.shape"
   ]
  },
  {
   "cell_type": "code",
   "execution_count": 34,
   "id": "777ab80d",
   "metadata": {},
   "outputs": [
    {
     "name": "stdout",
     "output_type": "stream",
     "text": [
      "<class 'pandas.core.frame.DataFrame'>\n",
      "Int64Index: 18 entries, 394 to 9874\n",
      "Columns: 101 entries, class to ee_009\n",
      "dtypes: float64(99), int64(1), object(1)\n",
      "memory usage: 14.3+ KB\n"
     ]
    }
   ],
   "source": [
    "afs.info()"
   ]
  },
  {
   "cell_type": "code",
   "execution_count": 35,
   "id": "79f35ed3",
   "metadata": {},
   "outputs": [
    {
     "data": {
      "text/html": [
       "<div>\n",
       "<style scoped>\n",
       "    .dataframe tbody tr th:only-of-type {\n",
       "        vertical-align: middle;\n",
       "    }\n",
       "\n",
       "    .dataframe tbody tr th {\n",
       "        vertical-align: top;\n",
       "    }\n",
       "\n",
       "    .dataframe thead th {\n",
       "        text-align: right;\n",
       "    }\n",
       "</style>\n",
       "<table border=\"1\" class=\"dataframe\">\n",
       "  <thead>\n",
       "    <tr style=\"text-align: right;\">\n",
       "      <th></th>\n",
       "      <th>aa_000</th>\n",
       "      <th>ag_000</th>\n",
       "      <th>ag_001</th>\n",
       "      <th>ag_002</th>\n",
       "      <th>ag_003</th>\n",
       "      <th>ag_004</th>\n",
       "      <th>ag_005</th>\n",
       "      <th>ag_006</th>\n",
       "      <th>ag_007</th>\n",
       "      <th>ag_008</th>\n",
       "      <th>...</th>\n",
       "      <th>ee_000</th>\n",
       "      <th>ee_001</th>\n",
       "      <th>ee_002</th>\n",
       "      <th>ee_003</th>\n",
       "      <th>ee_004</th>\n",
       "      <th>ee_005</th>\n",
       "      <th>ee_006</th>\n",
       "      <th>ee_007</th>\n",
       "      <th>ee_008</th>\n",
       "      <th>ee_009</th>\n",
       "    </tr>\n",
       "  </thead>\n",
       "  <tbody>\n",
       "    <tr>\n",
       "      <th>count</th>\n",
       "      <td>1.800000e+01</td>\n",
       "      <td>18.000000</td>\n",
       "      <td>18.0000</td>\n",
       "      <td>1.800000e+01</td>\n",
       "      <td>1.800000e+01</td>\n",
       "      <td>1.800000e+01</td>\n",
       "      <td>1.800000e+01</td>\n",
       "      <td>1.800000e+01</td>\n",
       "      <td>1.800000e+01</td>\n",
       "      <td>1.800000e+01</td>\n",
       "      <td>...</td>\n",
       "      <td>1.800000e+01</td>\n",
       "      <td>1.800000e+01</td>\n",
       "      <td>1.800000e+01</td>\n",
       "      <td>1.800000e+01</td>\n",
       "      <td>1.800000e+01</td>\n",
       "      <td>1.800000e+01</td>\n",
       "      <td>1.800000e+01</td>\n",
       "      <td>1.800000e+01</td>\n",
       "      <td>18.000000</td>\n",
       "      <td>18.000000</td>\n",
       "    </tr>\n",
       "    <tr>\n",
       "      <th>mean</th>\n",
       "      <td>4.788394e+05</td>\n",
       "      <td>669.444444</td>\n",
       "      <td>47599.0000</td>\n",
       "      <td>4.993739e+05</td>\n",
       "      <td>3.123816e+06</td>\n",
       "      <td>7.562500e+06</td>\n",
       "      <td>7.339413e+06</td>\n",
       "      <td>2.803240e+06</td>\n",
       "      <td>6.877313e+05</td>\n",
       "      <td>1.565098e+05</td>\n",
       "      <td>...</td>\n",
       "      <td>8.338007e+06</td>\n",
       "      <td>2.829623e+06</td>\n",
       "      <td>2.021914e+06</td>\n",
       "      <td>8.387891e+05</td>\n",
       "      <td>1.768133e+06</td>\n",
       "      <td>3.118137e+06</td>\n",
       "      <td>2.351525e+06</td>\n",
       "      <td>1.100007e+06</td>\n",
       "      <td>37970.555556</td>\n",
       "      <td>45.666667</td>\n",
       "    </tr>\n",
       "    <tr>\n",
       "      <th>std</th>\n",
       "      <td>4.126010e+05</td>\n",
       "      <td>1986.186154</td>\n",
       "      <td>103705.8621</td>\n",
       "      <td>9.956158e+05</td>\n",
       "      <td>5.337381e+06</td>\n",
       "      <td>1.008905e+07</td>\n",
       "      <td>9.495110e+06</td>\n",
       "      <td>3.368222e+06</td>\n",
       "      <td>9.274211e+05</td>\n",
       "      <td>3.286285e+05</td>\n",
       "      <td>...</td>\n",
       "      <td>9.729041e+06</td>\n",
       "      <td>3.506533e+06</td>\n",
       "      <td>3.255698e+06</td>\n",
       "      <td>1.385046e+06</td>\n",
       "      <td>2.914730e+06</td>\n",
       "      <td>5.489366e+06</td>\n",
       "      <td>3.846427e+06</td>\n",
       "      <td>1.815969e+06</td>\n",
       "      <td>62513.634390</td>\n",
       "      <td>181.937611</td>\n",
       "    </tr>\n",
       "    <tr>\n",
       "      <th>min</th>\n",
       "      <td>4.348200e+04</td>\n",
       "      <td>0.000000</td>\n",
       "      <td>0.0000</td>\n",
       "      <td>0.000000e+00</td>\n",
       "      <td>0.000000e+00</td>\n",
       "      <td>0.000000e+00</td>\n",
       "      <td>0.000000e+00</td>\n",
       "      <td>0.000000e+00</td>\n",
       "      <td>0.000000e+00</td>\n",
       "      <td>0.000000e+00</td>\n",
       "      <td>...</td>\n",
       "      <td>0.000000e+00</td>\n",
       "      <td>0.000000e+00</td>\n",
       "      <td>0.000000e+00</td>\n",
       "      <td>0.000000e+00</td>\n",
       "      <td>0.000000e+00</td>\n",
       "      <td>0.000000e+00</td>\n",
       "      <td>0.000000e+00</td>\n",
       "      <td>0.000000e+00</td>\n",
       "      <td>0.000000</td>\n",
       "      <td>0.000000</td>\n",
       "    </tr>\n",
       "    <tr>\n",
       "      <th>25%</th>\n",
       "      <td>1.344915e+05</td>\n",
       "      <td>0.000000</td>\n",
       "      <td>0.0000</td>\n",
       "      <td>3.338000e+03</td>\n",
       "      <td>1.515425e+05</td>\n",
       "      <td>1.459802e+06</td>\n",
       "      <td>8.716690e+05</td>\n",
       "      <td>3.002860e+05</td>\n",
       "      <td>3.718300e+04</td>\n",
       "      <td>2.050000e+01</td>\n",
       "      <td>...</td>\n",
       "      <td>5.620865e+05</td>\n",
       "      <td>3.656470e+05</td>\n",
       "      <td>2.432160e+05</td>\n",
       "      <td>6.629750e+04</td>\n",
       "      <td>1.168185e+05</td>\n",
       "      <td>1.588345e+05</td>\n",
       "      <td>3.771795e+05</td>\n",
       "      <td>2.691250e+04</td>\n",
       "      <td>1126.000000</td>\n",
       "      <td>0.000000</td>\n",
       "    </tr>\n",
       "    <tr>\n",
       "      <th>50%</th>\n",
       "      <td>3.711570e+05</td>\n",
       "      <td>0.000000</td>\n",
       "      <td>87.0000</td>\n",
       "      <td>6.749900e+04</td>\n",
       "      <td>1.202289e+06</td>\n",
       "      <td>4.726851e+06</td>\n",
       "      <td>3.860470e+06</td>\n",
       "      <td>1.034573e+06</td>\n",
       "      <td>2.858080e+05</td>\n",
       "      <td>1.278100e+04</td>\n",
       "      <td>...</td>\n",
       "      <td>3.714907e+06</td>\n",
       "      <td>1.594996e+06</td>\n",
       "      <td>9.051580e+05</td>\n",
       "      <td>3.643360e+05</td>\n",
       "      <td>7.910130e+05</td>\n",
       "      <td>9.995030e+05</td>\n",
       "      <td>8.404040e+05</td>\n",
       "      <td>2.684330e+05</td>\n",
       "      <td>5067.000000</td>\n",
       "      <td>0.000000</td>\n",
       "    </tr>\n",
       "    <tr>\n",
       "      <th>75%</th>\n",
       "      <td>8.027450e+05</td>\n",
       "      <td>0.000000</td>\n",
       "      <td>12781.0000</td>\n",
       "      <td>4.151330e+05</td>\n",
       "      <td>1.988947e+06</td>\n",
       "      <td>6.010742e+06</td>\n",
       "      <td>8.059524e+06</td>\n",
       "      <td>5.431096e+06</td>\n",
       "      <td>7.627465e+05</td>\n",
       "      <td>1.169225e+05</td>\n",
       "      <td>...</td>\n",
       "      <td>1.618132e+07</td>\n",
       "      <td>4.176691e+06</td>\n",
       "      <td>1.702544e+06</td>\n",
       "      <td>6.200770e+05</td>\n",
       "      <td>1.236940e+06</td>\n",
       "      <td>1.685908e+06</td>\n",
       "      <td>1.864466e+06</td>\n",
       "      <td>1.109928e+06</td>\n",
       "      <td>38950.500000</td>\n",
       "      <td>0.000000</td>\n",
       "    </tr>\n",
       "    <tr>\n",
       "      <th>max</th>\n",
       "      <td>1.243976e+06</td>\n",
       "      <td>7212.000000</td>\n",
       "      <td>303376.0000</td>\n",
       "      <td>3.805536e+06</td>\n",
       "      <td>2.039930e+07</td>\n",
       "      <td>3.516027e+07</td>\n",
       "      <td>3.050968e+07</td>\n",
       "      <td>9.203582e+06</td>\n",
       "      <td>3.194194e+06</td>\n",
       "      <td>1.294314e+06</td>\n",
       "      <td>...</td>\n",
       "      <td>2.924709e+07</td>\n",
       "      <td>1.276397e+07</td>\n",
       "      <td>1.170577e+07</td>\n",
       "      <td>4.825700e+06</td>\n",
       "      <td>1.042391e+07</td>\n",
       "      <td>1.951667e+07</td>\n",
       "      <td>1.409592e+07</td>\n",
       "      <td>6.605678e+06</td>\n",
       "      <td>206190.000000</td>\n",
       "      <td>774.000000</td>\n",
       "    </tr>\n",
       "  </tbody>\n",
       "</table>\n",
       "<p>8 rows × 100 columns</p>\n",
       "</div>"
      ],
      "text/plain": [
       "             aa_000       ag_000       ag_001        ag_002        ag_003  \\\n",
       "count  1.800000e+01    18.000000      18.0000  1.800000e+01  1.800000e+01   \n",
       "mean   4.788394e+05   669.444444   47599.0000  4.993739e+05  3.123816e+06   \n",
       "std    4.126010e+05  1986.186154  103705.8621  9.956158e+05  5.337381e+06   \n",
       "min    4.348200e+04     0.000000       0.0000  0.000000e+00  0.000000e+00   \n",
       "25%    1.344915e+05     0.000000       0.0000  3.338000e+03  1.515425e+05   \n",
       "50%    3.711570e+05     0.000000      87.0000  6.749900e+04  1.202289e+06   \n",
       "75%    8.027450e+05     0.000000   12781.0000  4.151330e+05  1.988947e+06   \n",
       "max    1.243976e+06  7212.000000  303376.0000  3.805536e+06  2.039930e+07   \n",
       "\n",
       "             ag_004        ag_005        ag_006        ag_007        ag_008  \\\n",
       "count  1.800000e+01  1.800000e+01  1.800000e+01  1.800000e+01  1.800000e+01   \n",
       "mean   7.562500e+06  7.339413e+06  2.803240e+06  6.877313e+05  1.565098e+05   \n",
       "std    1.008905e+07  9.495110e+06  3.368222e+06  9.274211e+05  3.286285e+05   \n",
       "min    0.000000e+00  0.000000e+00  0.000000e+00  0.000000e+00  0.000000e+00   \n",
       "25%    1.459802e+06  8.716690e+05  3.002860e+05  3.718300e+04  2.050000e+01   \n",
       "50%    4.726851e+06  3.860470e+06  1.034573e+06  2.858080e+05  1.278100e+04   \n",
       "75%    6.010742e+06  8.059524e+06  5.431096e+06  7.627465e+05  1.169225e+05   \n",
       "max    3.516027e+07  3.050968e+07  9.203582e+06  3.194194e+06  1.294314e+06   \n",
       "\n",
       "       ...        ee_000        ee_001        ee_002        ee_003  \\\n",
       "count  ...  1.800000e+01  1.800000e+01  1.800000e+01  1.800000e+01   \n",
       "mean   ...  8.338007e+06  2.829623e+06  2.021914e+06  8.387891e+05   \n",
       "std    ...  9.729041e+06  3.506533e+06  3.255698e+06  1.385046e+06   \n",
       "min    ...  0.000000e+00  0.000000e+00  0.000000e+00  0.000000e+00   \n",
       "25%    ...  5.620865e+05  3.656470e+05  2.432160e+05  6.629750e+04   \n",
       "50%    ...  3.714907e+06  1.594996e+06  9.051580e+05  3.643360e+05   \n",
       "75%    ...  1.618132e+07  4.176691e+06  1.702544e+06  6.200770e+05   \n",
       "max    ...  2.924709e+07  1.276397e+07  1.170577e+07  4.825700e+06   \n",
       "\n",
       "             ee_004        ee_005        ee_006        ee_007         ee_008  \\\n",
       "count  1.800000e+01  1.800000e+01  1.800000e+01  1.800000e+01      18.000000   \n",
       "mean   1.768133e+06  3.118137e+06  2.351525e+06  1.100007e+06   37970.555556   \n",
       "std    2.914730e+06  5.489366e+06  3.846427e+06  1.815969e+06   62513.634390   \n",
       "min    0.000000e+00  0.000000e+00  0.000000e+00  0.000000e+00       0.000000   \n",
       "25%    1.168185e+05  1.588345e+05  3.771795e+05  2.691250e+04    1126.000000   \n",
       "50%    7.910130e+05  9.995030e+05  8.404040e+05  2.684330e+05    5067.000000   \n",
       "75%    1.236940e+06  1.685908e+06  1.864466e+06  1.109928e+06   38950.500000   \n",
       "max    1.042391e+07  1.951667e+07  1.409592e+07  6.605678e+06  206190.000000   \n",
       "\n",
       "           ee_009  \n",
       "count   18.000000  \n",
       "mean    45.666667  \n",
       "std    181.937611  \n",
       "min      0.000000  \n",
       "25%      0.000000  \n",
       "50%      0.000000  \n",
       "75%      0.000000  \n",
       "max    774.000000  \n",
       "\n",
       "[8 rows x 100 columns]"
      ]
     },
     "execution_count": 35,
     "metadata": {},
     "output_type": "execute_result"
    }
   ],
   "source": [
    "afs.describe()"
   ]
  },
  {
   "cell_type": "code",
   "execution_count": 36,
   "id": "35662421",
   "metadata": {},
   "outputs": [
    {
     "data": {
      "text/plain": [
       "False"
      ]
     },
     "execution_count": 36,
     "metadata": {},
     "output_type": "execute_result"
    }
   ],
   "source": [
    "afs.isnull().values.any()"
   ]
  },
  {
   "cell_type": "code",
   "execution_count": 37,
   "id": "ca0b3900",
   "metadata": {},
   "outputs": [
    {
     "data": {
      "text/plain": [
       "class     0\n",
       "aa_000    0\n",
       "ag_000    0\n",
       "ag_001    0\n",
       "ag_002    0\n",
       "ag_003    0\n",
       "ag_004    0\n",
       "ag_005    0\n",
       "ag_006    0\n",
       "ag_007    0\n",
       "ag_008    0\n",
       "ag_009    0\n",
       "ah_000    0\n",
       "ai_000    0\n",
       "aj_000    0\n",
       "al_000    0\n",
       "am_0      0\n",
       "an_000    0\n",
       "ao_000    0\n",
       "ap_000    0\n",
       "aq_000    0\n",
       "as_000    0\n",
       "at_000    0\n",
       "au_000    0\n",
       "ay_000    0\n",
       "ay_001    0\n",
       "ay_002    0\n",
       "ay_003    0\n",
       "ay_004    0\n",
       "ay_005    0\n",
       "ay_006    0\n",
       "ay_007    0\n",
       "ay_008    0\n",
       "ay_009    0\n",
       "az_000    0\n",
       "az_001    0\n",
       "az_002    0\n",
       "az_003    0\n",
       "az_004    0\n",
       "az_005    0\n",
       "az_006    0\n",
       "az_007    0\n",
       "az_008    0\n",
       "az_009    0\n",
       "ba_000    0\n",
       "ba_001    0\n",
       "ba_002    0\n",
       "ba_003    0\n",
       "ba_004    0\n",
       "ba_005    0\n",
       "ba_006    0\n",
       "ba_007    0\n",
       "ba_008    0\n",
       "ba_009    0\n",
       "bb_000    0\n",
       "bg_000    0\n",
       "bh_000    0\n",
       "bi_000    0\n",
       "bj_000    0\n",
       "bs_000    0\n",
       "bt_000    0\n",
       "bu_000    0\n",
       "bv_000    0\n",
       "by_000    0\n",
       "cb_000    0\n",
       "cd_000    0\n",
       "ci_000    0\n",
       "cj_000    0\n",
       "ck_000    0\n",
       "cn_000    0\n",
       "cn_001    0\n",
       "cn_002    0\n",
       "cn_003    0\n",
       "cn_004    0\n",
       "cn_005    0\n",
       "cn_006    0\n",
       "cn_007    0\n",
       "cn_008    0\n",
       "cn_009    0\n",
       "cq_000    0\n",
       "cs_000    0\n",
       "cs_001    0\n",
       "cs_002    0\n",
       "cs_003    0\n",
       "cs_004    0\n",
       "cs_005    0\n",
       "cs_006    0\n",
       "cs_007    0\n",
       "cs_008    0\n",
       "cs_009    0\n",
       "dn_000    0\n",
       "ee_000    0\n",
       "ee_001    0\n",
       "ee_002    0\n",
       "ee_003    0\n",
       "ee_004    0\n",
       "ee_005    0\n",
       "ee_006    0\n",
       "ee_007    0\n",
       "ee_008    0\n",
       "ee_009    0\n",
       "dtype: int64"
      ]
     },
     "execution_count": 37,
     "metadata": {},
     "output_type": "execute_result"
    }
   ],
   "source": [
    "afs.isnull().sum()"
   ]
  },
  {
   "cell_type": "code",
   "execution_count": 38,
   "id": "b4752f9e",
   "metadata": {},
   "outputs": [
    {
     "data": {
      "text/plain": [
       "pos    18\n",
       "Name: class, dtype: int64"
      ]
     },
     "execution_count": 38,
     "metadata": {},
     "output_type": "execute_result"
    }
   ],
   "source": [
    "afs[\"class\"].value_counts().sort_index()\n"
   ]
  },
  {
   "cell_type": "code",
   "execution_count": null,
   "id": "e005b39d",
   "metadata": {},
   "outputs": [],
   "source": []
  },
  {
   "cell_type": "code",
   "execution_count": 39,
   "id": "c1af75a1",
   "metadata": {},
   "outputs": [
    {
     "data": {
      "text/plain": [
       "<bound method DataFrame.info of      class   aa_000  ag_000    ag_001     ag_002      ag_003      ag_004  \\\n",
       "394    pos   281324  4808.0  215720.0   967572.0   2037438.0   3416030.0   \n",
       "413    pos    43482     0.0       0.0    40024.0    493856.0   6831358.0   \n",
       "649    pos   892422     0.0    2716.0   656148.0   6846624.0  21333132.0   \n",
       "749    pos   176346     0.0       0.0    65836.0   1630616.0   6046848.0   \n",
       "830    pos   460990     0.0    1094.0    63812.0    911674.0   4005628.0   \n",
       "1398   pos   110502     0.0       0.0        0.0         0.0      5030.0   \n",
       "2520   pos    64952     0.0    3268.0   186684.0   1832492.0   4689994.0   \n",
       "3399   pos   187426     0.0   24350.0   157088.0   1492904.0   5349622.0   \n",
       "4851   pos   533714     0.0     174.0   481898.0   4981798.0   5902426.0   \n",
       "4967   pos   976574     0.0       0.0        0.0         0.0    102372.0   \n",
       "5669   pos   120540     0.0       0.0    13352.0    724032.0   4763708.0   \n",
       "5748   pos   195268     0.0       0.0    69162.0    569778.0   3669832.0   \n",
       "6239   pos   491292     0.0       0.0        0.0         0.0         0.0   \n",
       "6261   pos   100082     0.0   15952.0   214838.0   1843474.0   5575770.0   \n",
       "6908   pos  1243976    30.0  290132.0  3805536.0  20399296.0  35160270.0   \n",
       "9082   pos   511552     0.0       0.0        0.0     37438.0    807726.0   \n",
       "9436   pos  1196158     0.0       0.0        0.0      1826.0    107070.0   \n",
       "9874   pos  1032510  7212.0  303376.0  2266780.0  12425434.0  28358188.0   \n",
       "\n",
       "          ag_005     ag_006     ag_007  ...      ee_000      ee_001  \\\n",
       "394    1725790.0   297726.0    26190.0  ...   3787316.0    926638.0   \n",
       "413   12916128.0  6733314.0   794698.0  ...  22205204.0   3909586.0   \n",
       "649   22695462.0  8334248.0  1986652.0  ...  18397906.0   4428482.0   \n",
       "749    8558602.0  3968884.0  1505456.0  ...   9531556.0   4754898.0   \n",
       "830    3961120.0  1129718.0   170674.0  ...   2201442.0   1107896.0   \n",
       "1398    280548.0   268428.0    70162.0  ...    382536.0     72078.0   \n",
       "2520   6562292.0  5918500.0  3194194.0  ...  19479258.0   1599656.0   \n",
       "3399   3759820.0   888092.0     2864.0  ...   1125540.0   2170858.0   \n",
       "4851   1954680.0   499138.0   252328.0  ...   6028686.0   1686868.0   \n",
       "4967    586962.0   307966.0   161628.0  ...    407610.0    178650.0   \n",
       "5669   5734042.0  1522372.0   319288.0  ...   3642498.0   4265726.0   \n",
       "5748   4329458.0  1723420.0   410480.0  ...   1025516.0   1374212.0   \n",
       "6239         0.0        0.0        0.0  ...         0.0         0.0   \n",
       "6261   2084948.0   939428.0   595354.0  ...   8846656.0   1590336.0   \n",
       "6908  30509680.0  8676690.0   666892.0  ...  29247086.0  12763968.0   \n",
       "9082    146036.0     7096.0      420.0  ...    170910.0    169590.0   \n",
       "9436    224732.0    39710.0     9750.0  ...     76674.0     42322.0   \n",
       "9874  26079130.0  9203582.0  2212134.0  ...  23527730.0   9891452.0   \n",
       "\n",
       "          ee_002     ee_003      ee_004      ee_005      ee_006     ee_007  \\\n",
       "394     624606.0   269976.0    638838.0   1358354.0    819918.0   262804.0   \n",
       "413     497196.0   121166.0    202272.0    232636.0    645690.0       50.0   \n",
       "649    3500996.0  1980134.0   5102372.0   7882256.0  14095922.0  6605678.0   \n",
       "749    2428526.0   720862.0   1189150.0   1710512.0   1018248.0   626354.0   \n",
       "830     864476.0   336864.0    820060.0   1116896.0   2489538.0  1271120.0   \n",
       "1398     50822.0    22460.0     36744.0     20498.0     15926.0    21798.0   \n",
       "2520    621934.0   222504.0    475288.0    553688.0    420948.0   470258.0   \n",
       "3399   1227608.0   465158.0   1009598.0   4375152.0   1021132.0   274062.0   \n",
       "4851   1355012.0   614146.0   1252870.0   1612098.0   1288688.0   310042.0   \n",
       "4967    158556.0    40750.0     88334.0    134234.0    125054.0    81524.0   \n",
       "5669   1818388.0   622054.0   1291856.0    726114.0    686860.0    42256.0   \n",
       "5748    945840.0   403650.0    835958.0    882110.0   2056392.0  3236850.0   \n",
       "6239         0.0        0.0         0.0         0.0         0.0        0.0   \n",
       "6261   1089470.0   391808.0    761966.0   1265712.0    860890.0   160666.0   \n",
       "6908  11705774.0  4825700.0  10423908.0  19516670.0   7073896.0  3807070.0   \n",
       "9082    102474.0    48008.0     65134.0     60038.0    362590.0    17528.0   \n",
       "9436     18844.0    13454.0     36400.0     78564.0     98542.0    17622.0   \n",
       "9874   9383928.0  3999510.0   7595646.0  14600942.0   9247210.0  2594440.0   \n",
       "\n",
       "        ee_008  ee_009  \n",
       "394     2824.0     0.0  \n",
       "413        0.0     0.0  \n",
       "649   206190.0   774.0  \n",
       "749    32208.0     0.0  \n",
       "830    41198.0    20.0  \n",
       "1398    1306.0     0.0  \n",
       "2520   12530.0     0.0  \n",
       "3399    5632.0     0.0  \n",
       "4851    4502.0     0.0  \n",
       "4967    1066.0     0.0  \n",
       "5669     890.0     0.0  \n",
       "5748   55652.0     0.0  \n",
       "6239       0.0     0.0  \n",
       "6261   21906.0     0.0  \n",
       "6908  145478.0    28.0  \n",
       "9082    2444.0     0.0  \n",
       "9436     748.0     0.0  \n",
       "9874  148896.0     0.0  \n",
       "\n",
       "[18 rows x 101 columns]>"
      ]
     },
     "execution_count": 39,
     "metadata": {},
     "output_type": "execute_result"
    }
   ],
   "source": [
    "afs.info"
   ]
  },
  {
   "cell_type": "code",
   "execution_count": 40,
   "id": "d749c648",
   "metadata": {},
   "outputs": [
    {
     "data": {
      "text/plain": [
       "<bound method DataFrame.count of      class   aa_000  ag_000    ag_001     ag_002      ag_003      ag_004  \\\n",
       "394    pos   281324  4808.0  215720.0   967572.0   2037438.0   3416030.0   \n",
       "413    pos    43482     0.0       0.0    40024.0    493856.0   6831358.0   \n",
       "649    pos   892422     0.0    2716.0   656148.0   6846624.0  21333132.0   \n",
       "749    pos   176346     0.0       0.0    65836.0   1630616.0   6046848.0   \n",
       "830    pos   460990     0.0    1094.0    63812.0    911674.0   4005628.0   \n",
       "1398   pos   110502     0.0       0.0        0.0         0.0      5030.0   \n",
       "2520   pos    64952     0.0    3268.0   186684.0   1832492.0   4689994.0   \n",
       "3399   pos   187426     0.0   24350.0   157088.0   1492904.0   5349622.0   \n",
       "4851   pos   533714     0.0     174.0   481898.0   4981798.0   5902426.0   \n",
       "4967   pos   976574     0.0       0.0        0.0         0.0    102372.0   \n",
       "5669   pos   120540     0.0       0.0    13352.0    724032.0   4763708.0   \n",
       "5748   pos   195268     0.0       0.0    69162.0    569778.0   3669832.0   \n",
       "6239   pos   491292     0.0       0.0        0.0         0.0         0.0   \n",
       "6261   pos   100082     0.0   15952.0   214838.0   1843474.0   5575770.0   \n",
       "6908   pos  1243976    30.0  290132.0  3805536.0  20399296.0  35160270.0   \n",
       "9082   pos   511552     0.0       0.0        0.0     37438.0    807726.0   \n",
       "9436   pos  1196158     0.0       0.0        0.0      1826.0    107070.0   \n",
       "9874   pos  1032510  7212.0  303376.0  2266780.0  12425434.0  28358188.0   \n",
       "\n",
       "          ag_005     ag_006     ag_007  ...      ee_000      ee_001  \\\n",
       "394    1725790.0   297726.0    26190.0  ...   3787316.0    926638.0   \n",
       "413   12916128.0  6733314.0   794698.0  ...  22205204.0   3909586.0   \n",
       "649   22695462.0  8334248.0  1986652.0  ...  18397906.0   4428482.0   \n",
       "749    8558602.0  3968884.0  1505456.0  ...   9531556.0   4754898.0   \n",
       "830    3961120.0  1129718.0   170674.0  ...   2201442.0   1107896.0   \n",
       "1398    280548.0   268428.0    70162.0  ...    382536.0     72078.0   \n",
       "2520   6562292.0  5918500.0  3194194.0  ...  19479258.0   1599656.0   \n",
       "3399   3759820.0   888092.0     2864.0  ...   1125540.0   2170858.0   \n",
       "4851   1954680.0   499138.0   252328.0  ...   6028686.0   1686868.0   \n",
       "4967    586962.0   307966.0   161628.0  ...    407610.0    178650.0   \n",
       "5669   5734042.0  1522372.0   319288.0  ...   3642498.0   4265726.0   \n",
       "5748   4329458.0  1723420.0   410480.0  ...   1025516.0   1374212.0   \n",
       "6239         0.0        0.0        0.0  ...         0.0         0.0   \n",
       "6261   2084948.0   939428.0   595354.0  ...   8846656.0   1590336.0   \n",
       "6908  30509680.0  8676690.0   666892.0  ...  29247086.0  12763968.0   \n",
       "9082    146036.0     7096.0      420.0  ...    170910.0    169590.0   \n",
       "9436    224732.0    39710.0     9750.0  ...     76674.0     42322.0   \n",
       "9874  26079130.0  9203582.0  2212134.0  ...  23527730.0   9891452.0   \n",
       "\n",
       "          ee_002     ee_003      ee_004      ee_005      ee_006     ee_007  \\\n",
       "394     624606.0   269976.0    638838.0   1358354.0    819918.0   262804.0   \n",
       "413     497196.0   121166.0    202272.0    232636.0    645690.0       50.0   \n",
       "649    3500996.0  1980134.0   5102372.0   7882256.0  14095922.0  6605678.0   \n",
       "749    2428526.0   720862.0   1189150.0   1710512.0   1018248.0   626354.0   \n",
       "830     864476.0   336864.0    820060.0   1116896.0   2489538.0  1271120.0   \n",
       "1398     50822.0    22460.0     36744.0     20498.0     15926.0    21798.0   \n",
       "2520    621934.0   222504.0    475288.0    553688.0    420948.0   470258.0   \n",
       "3399   1227608.0   465158.0   1009598.0   4375152.0   1021132.0   274062.0   \n",
       "4851   1355012.0   614146.0   1252870.0   1612098.0   1288688.0   310042.0   \n",
       "4967    158556.0    40750.0     88334.0    134234.0    125054.0    81524.0   \n",
       "5669   1818388.0   622054.0   1291856.0    726114.0    686860.0    42256.0   \n",
       "5748    945840.0   403650.0    835958.0    882110.0   2056392.0  3236850.0   \n",
       "6239         0.0        0.0         0.0         0.0         0.0        0.0   \n",
       "6261   1089470.0   391808.0    761966.0   1265712.0    860890.0   160666.0   \n",
       "6908  11705774.0  4825700.0  10423908.0  19516670.0   7073896.0  3807070.0   \n",
       "9082    102474.0    48008.0     65134.0     60038.0    362590.0    17528.0   \n",
       "9436     18844.0    13454.0     36400.0     78564.0     98542.0    17622.0   \n",
       "9874   9383928.0  3999510.0   7595646.0  14600942.0   9247210.0  2594440.0   \n",
       "\n",
       "        ee_008  ee_009  \n",
       "394     2824.0     0.0  \n",
       "413        0.0     0.0  \n",
       "649   206190.0   774.0  \n",
       "749    32208.0     0.0  \n",
       "830    41198.0    20.0  \n",
       "1398    1306.0     0.0  \n",
       "2520   12530.0     0.0  \n",
       "3399    5632.0     0.0  \n",
       "4851    4502.0     0.0  \n",
       "4967    1066.0     0.0  \n",
       "5669     890.0     0.0  \n",
       "5748   55652.0     0.0  \n",
       "6239       0.0     0.0  \n",
       "6261   21906.0     0.0  \n",
       "6908  145478.0    28.0  \n",
       "9082    2444.0     0.0  \n",
       "9436     748.0     0.0  \n",
       "9874  148896.0     0.0  \n",
       "\n",
       "[18 rows x 101 columns]>"
      ]
     },
     "execution_count": 40,
     "metadata": {},
     "output_type": "execute_result"
    }
   ],
   "source": [
    "afs.count"
   ]
  },
  {
   "cell_type": "code",
   "execution_count": null,
   "id": "d2dc6db7",
   "metadata": {},
   "outputs": [],
   "source": []
  },
  {
   "cell_type": "code",
   "execution_count": 41,
   "id": "74940a3a",
   "metadata": {},
   "outputs": [
    {
     "data": {
      "text/plain": [
       "<Axes: xlabel='aa_000'>"
      ]
     },
     "execution_count": 41,
     "metadata": {},
     "output_type": "execute_result"
    },
    {
     "data": {
      "image/png": "[encoded data removed]",
      "text/plain": [
       "<Figure size 640x480 with 1 Axes>"
      ]
     },
     "metadata": {},
     "output_type": "display_data"
    }
   ],
   "source": [
    "sns.boxplot(x=afs[\"aa_000\"])"
   ]
  },
  {
   "cell_type": "code",
   "execution_count": 42,
   "id": "2d695887",
   "metadata": {},
   "outputs": [
    {
     "data": {
      "text/plain": [
       "<Axes: xlabel='ag_000'>"
      ]
     },
     "execution_count": 42,
     "metadata": {},
     "output_type": "execute_result"
    },
    {
     "data": {
      "image/png": "[encoded data removed]",
      "text/plain": [
       "<Figure size 640x480 with 1 Axes>"
      ]
     },
     "metadata": {},
     "output_type": "display_data"
    }
   ],
   "source": [
    "sns.boxplot(x=afs[\"ag_000\"])"
   ]
  },
  {
   "cell_type": "code",
   "execution_count": 43,
   "id": "8b3fb6ce",
   "metadata": {},
   "outputs": [
    {
     "data": {
      "text/plain": [
       "<Axes: xlabel='ag_001'>"
      ]
     },
     "execution_count": 43,
     "metadata": {},
     "output_type": "execute_result"
    },
    {
     "data": {
      "image/png": "[encoded data removed]",
      "text/plain": [
       "<Figure size 640x480 with 1 Axes>"
      ]
     },
     "metadata": {},
     "output_type": "display_data"
    }
   ],
   "source": [
    "sns.boxplot(x=afs[\"ag_001\"])"
   ]
  },
  {
   "cell_type": "code",
   "execution_count": 44,
   "id": "2e495002",
   "metadata": {},
   "outputs": [
    {
     "data": {
      "text/plain": [
       "<Axes: xlabel='ag_002'>"
      ]
     },
     "execution_count": 44,
     "metadata": {},
     "output_type": "execute_result"
    },
    {
     "data": {
      "image/png": "[encoded data removed]",
      "text/plain": [
       "<Figure size 640x480 with 1 Axes>"
      ]
     },
     "metadata": {},
     "output_type": "display_data"
    }
   ],
   "source": [
    "sns.boxplot(x=afs[\"ag_002\"])"
   ]
  },
  {
   "cell_type": "code",
   "execution_count": 45,
   "id": "033130a5",
   "metadata": {},
   "outputs": [
    {
     "data": {
      "text/plain": [
       "<Axes: xlabel='ag_003'>"
      ]
     },
     "execution_count": 45,
     "metadata": {},
     "output_type": "execute_result"
    },
    {
     "data": {
      "image/png": "[encoded data removed]",
      "text/plain": [
       "<Figure size 640x480 with 1 Axes>"
      ]
     },
     "metadata": {},
     "output_type": "display_data"
    }
   ],
   "source": [
    "sns.boxplot(x=afs[\"ag_003\"])"
   ]
  },
  {
   "cell_type": "code",
   "execution_count": 46,
   "id": "1dae82a8",
   "metadata": {},
   "outputs": [
    {
     "data": {
      "text/plain": [
       "<Axes: xlabel='ag_004'>"
      ]
     },
     "execution_count": 46,
     "metadata": {},
     "output_type": "execute_result"
    },
    {
     "data": {
      "image/png": "[encoded data removed]",
      "text/plain": [
       "<Figure size 640x480 with 1 Axes>"
      ]
     },
     "metadata": {},
     "output_type": "display_data"
    }
   ],
   "source": [
    "sns.boxplot(x=afs[\"ag_004\"])"
   ]
  },
  {
   "cell_type": "code",
   "execution_count": 47,
   "id": "233a55b2",
   "metadata": {},
   "outputs": [
    {
     "data": {
      "text/plain": [
       "<Axes: xlabel='ag_005'>"
      ]
     },
     "execution_count": 47,
     "metadata": {},
     "output_type": "execute_result"
    },
    {
     "data": {
      "image/png": "[encoded data removed]",
      "text/plain": [
       "<Figure size 640x480 with 1 Axes>"
      ]
     },
     "metadata": {},
     "output_type": "display_data"
    }
   ],
   "source": [
    "sns.boxplot(x=afs[\"ag_005\"])"
   ]
  },
  {
   "cell_type": "code",
   "execution_count": 48,
   "id": "a4206184",
   "metadata": {},
   "outputs": [
    {
     "data": {
      "text/plain": [
       "<Axes: xlabel='ag_007'>"
      ]
     },
     "execution_count": 48,
     "metadata": {},
     "output_type": "execute_result"
    },
    {
     "data": {
      "image/png": "[encoded data removed]",
      "text/plain": [
       "<Figure size 640x480 with 1 Axes>"
      ]
     },
     "metadata": {},
     "output_type": "display_data"
    }
   ],
   "source": [
    "sns.boxplot(x=afs[\"ag_007\"])\n"
   ]
  },
  {
   "cell_type": "code",
   "execution_count": 49,
   "id": "8eb7b7be",
   "metadata": {},
   "outputs": [
    {
     "data": {
      "text/plain": [
       "<Axes: xlabel='ag_007'>"
      ]
     },
     "execution_count": 49,
     "metadata": {},
     "output_type": "execute_result"
    },
    {
     "data": {
      "image/png": "[encoded data removed]",
      "text/plain": [
       "<Figure size 640x480 with 1 Axes>"
      ]
     },
     "metadata": {},
     "output_type": "display_data"
    }
   ],
   "source": [
    "sns.boxplot(x=afs[\"ag_007\"])"
   ]
  },
  {
   "cell_type": "code",
   "execution_count": 50,
   "id": "b449aa6f",
   "metadata": {},
   "outputs": [
    {
     "data": {
      "text/plain": [
       "<Axes: xlabel='ee_000'>"
      ]
     },
     "execution_count": 50,
     "metadata": {},
     "output_type": "execute_result"
    },
    {
     "data": {
      "image/png": "[encoded data removed]",
      "text/plain": [
       "<Figure size 640x480 with 1 Axes>"
      ]
     },
     "metadata": {},
     "output_type": "display_data"
    }
   ],
   "source": [
    "sns.boxplot(x=afs[\"ee_000\"])"
   ]
  },
  {
   "cell_type": "code",
   "execution_count": 51,
   "id": "52c5f4b2",
   "metadata": {},
   "outputs": [
    {
     "data": {
      "text/plain": [
       "<Axes: xlabel='ee_001'>"
      ]
     },
     "execution_count": 51,
     "metadata": {},
     "output_type": "execute_result"
    },
    {
     "data": {
      "image/png": "[encoded data removed]",
      "text/plain": [
       "<Figure size 640x480 with 1 Axes>"
      ]
     },
     "metadata": {},
     "output_type": "display_data"
    }
   ],
   "source": [
    "sns.boxplot(x=afs[\"ee_001\"])\n"
   ]
  },
  {
   "cell_type": "code",
   "execution_count": 52,
   "id": "294cc753",
   "metadata": {},
   "outputs": [
    {
     "data": {
      "text/plain": [
       "<Axes: xlabel='ee_002'>"
      ]
     },
     "execution_count": 52,
     "metadata": {},
     "output_type": "execute_result"
    },
    {
     "data": {
      "image/png": "[encoded data removed]",
      "text/plain": [
       "<Figure size 640x480 with 1 Axes>"
      ]
     },
     "metadata": {},
     "output_type": "display_data"
    }
   ],
   "source": [
    "sns.boxplot(x=afs[\"ee_002\"])"
   ]
  },
  {
   "cell_type": "code",
   "execution_count": 53,
   "id": "628fc206",
   "metadata": {},
   "outputs": [
    {
     "data": {
      "text/plain": [
       "<Axes: xlabel='ee_003'>"
      ]
     },
     "execution_count": 53,
     "metadata": {},
     "output_type": "execute_result"
    },
    {
     "data": {
      "image/png": "[encoded data removed]",
      "text/plain": [
       "<Figure size 640x480 with 1 Axes>"
      ]
     },
     "metadata": {},
     "output_type": "display_data"
    }
   ],
   "source": [
    "sns.boxplot(x=afs[\"ee_003\"])"
   ]
  },
  {
   "cell_type": "code",
   "execution_count": 54,
   "id": "e23c399a",
   "metadata": {},
   "outputs": [
    {
     "ename": "NameError",
     "evalue": "name 'new_afs' is not defined",
     "output_type": "error",
     "traceback": [
      "\u001b[1;31m---------------------------------------------------------------------------\u001b[0m",
      "\u001b[1;31mNameError\u001b[0m                                 Traceback (most recent call last)",
      "Cell \u001b[1;32mIn[54], line 1\u001b[0m\n\u001b[1;32m----> 1\u001b[0m Q1 \u001b[38;5;241m=\u001b[39m new_afs\u001b[38;5;241m.\u001b[39mquantile(\u001b[38;5;241m0.25\u001b[39m)\n\u001b[0;32m      2\u001b[0m Q3 \u001b[38;5;241m=\u001b[39m new_afs\u001b[38;5;241m.\u001b[39mquantile(\u001b[38;5;241m0.75\u001b[39m)\n\u001b[0;32m      3\u001b[0m IQR \u001b[38;5;241m=\u001b[39m Q3\u001b[38;5;241m-\u001b[39mQ1\n",
      "\u001b[1;31mNameError\u001b[0m: name 'new_afs' is not defined"
     ]
    }
   ],
   "source": [
    "Q1 = new_afs.quantile(0.25)\n",
    "Q3 = new_afs.quantile(0.75)\n",
    "IQR = Q3-Q1\n",
    "print(IQR)"
   ]
  },
  {
   "cell_type": "code",
   "execution_count": null,
   "id": "7dfd560c",
   "metadata": {},
   "outputs": [],
   "source": [
    "Q1 = afs.quantile(0.25)\n",
    "Q3 = afs.quantile(0.75)\n",
    "IQR = Q3-Q1\n",
    "print(IQR)"
   ]
  },
  {
   "cell_type": "code",
   "execution_count": null,
   "id": "0623b22c",
   "metadata": {},
   "outputs": [],
   "source": [
    "\n",
    "afs.count()"
   ]
  },
  {
   "cell_type": "code",
   "execution_count": null,
   "id": "1fbb6ad9",
   "metadata": {},
   "outputs": [],
   "source": [
    "df = afs.dropna() "
   ]
  },
  {
   "cell_type": "code",
   "execution_count": null,
   "id": "b87b52cf",
   "metadata": {},
   "outputs": [],
   "source": [
    "afs.count()"
   ]
  },
  {
   "cell_type": "code",
   "execution_count": null,
   "id": "cc7e5840",
   "metadata": {},
   "outputs": [],
   "source": [
    "plt.figure(figsize=(20,10))\n",
    "c= afs.corr()\n",
    "sns.heatmap(c,cmap=\"BrBG\",annot=True)\n",
    "c"
   ]
  },
  {
   "cell_type": "code",
   "execution_count": null,
   "id": "4beaf4ac",
   "metadata": {},
   "outputs": [],
   "source": [
    "afs.drop(['eg_000'], axis=1, inplace=True)"
   ]
  },
  {
   "cell_type": "code",
   "execution_count": null,
   "id": "4177e639",
   "metadata": {},
   "outputs": [],
   "source": [
    "afs.drop(['dj_000', 'dk_000', 'dl_000', 'dm_000', 'dz_000', 'cr_000', 'ch_000', 'cd_000'], axis=1, inplace=True)\n"
   ]
  },
  {
   "cell_type": "code",
   "execution_count": null,
   "id": "c0b2c04f",
   "metadata": {},
   "outputs": [],
   "source": []
  }
 ],
 "metadata": {
  "kernelspec": {
   "display_name": "Python 3 (ipykernel)",
   "language": "python",
   "name": "python3"
  },
  "language_info": {
   "codemirror_mode": {
    "name": "ipython",
    "version": 3
   },
   "file_extension": ".py",
   "mimetype": "text/x-python",
   "name": "python",
   "nbconvert_exporter": "python",
   "pygments_lexer": "ipython3",
   "version": "3.11.4"
  }
 },
 "nbformat": 4,
 "nbformat_minor": 5
}
